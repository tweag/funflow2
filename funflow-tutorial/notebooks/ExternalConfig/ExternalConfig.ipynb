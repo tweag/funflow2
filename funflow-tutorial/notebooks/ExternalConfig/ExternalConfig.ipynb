{
 "cells": [
  {
   "cell_type": "markdown",
   "metadata": {},
   "source": [
    "# Configuration\n",
    "\n",
    "Funflow provides support for configuring a `Flow` via a YAML config file or environment variables. Support for automatically generated CLI flags is also planned but as of the writing of this tutorial has not been implemented.\n",
    "\n",
    "If a Task you are using contains a `Configurable` field, you will need to specify the source for that configuration when you write your `Flow` via one of the `Literal`, `ConfigFromEnv`, or `ConfigFromFile` constructors. For example, the `Arg` field of the `DockerTask` supports configurable args. Let's take a look at a few examples.\n",
    "\n",
    "## Environment Variables"
   ]
  },
  {
   "cell_type": "code",
   "execution_count": 12,
   "metadata": {},
   "outputs": [],
   "source": [
    "{-# LANGUAGE FlexibleContexts #-}\n",
    "{-# LANGUAGE GADTs #-}\n",
    "-- Note: Using OverloadedStrings with DockerTask since it will automatically\n",
    "-- make sure that any `Literal` strings we write are of type `Arg`\n",
    "{-# LANGUAGE OverloadedStrings #-}\n",
    "\n",
    "import qualified Data.CAS.ContentStore as CS\n",
    "import Funflow\n",
    "import Funflow.Tasks.Docker\n",
    "import Funflow.Config (Configurable (Literal, ConfigFromFile, ConfigFromEnv, ConfigFromCLI))\n",
    "\n",
    "flow1 = dockerFlow $ \n",
    "    DockerTaskConfig {\n",
    "        image=\"alpine:latest\",\n",
    "        command=\"echo\",\n",
    "        args=[\"this is a hard-coded literal value, the next value is: \", Arg $ ConfigFromEnv \"CONFIGURING_FLOWS\"]\n",
    "    }"
   ]
  },
  {
   "cell_type": "markdown",
   "metadata": {},
   "source": [
    "Now we just need to set the `CONFIGURING_FLOWS` environment variable and run the task"
   ]
  },
  {
   "cell_type": "code",
   "execution_count": 13,
   "metadata": {},
   "outputs": [
    {
     "data": {
      "text/plain": [
       "Found docker images, pulling...\n",
       "Pulling docker image: alpine:latest\n",
       "2020-11-18T08:31:20.630500935Z this is a hard-coded literal value, the next value is:  hello from an environment variable!\n",
       "Item {itemHash = ContentHash \"e3b0c44298fc1c149afbf4c8996fb92427ae41e4649b934ca495991b7852b855\"}"
      ]
     },
     "metadata": {},
     "output_type": "display_data"
    }
   ],
   "source": [
    "import System.Environment (setEnv)\n",
    "\n",
    "setEnv \"CONFIGURING_FLOWS\" \"'hello from an environment variable!'\"\n",
    "\n",
    "runFlow flow1 DockerTaskInput {inputBindings = [], argsVals = mempty} :: IO (CS.Item)"
   ]
  },
  {
   "cell_type": "markdown",
   "metadata": {},
   "source": [
    "## YAML File\n",
    "For passing in configurations via a config file, use the `ConfigFromFile` constructor and pass a config file path to `runFlowWithConfig`:"
   ]
  },
  {
   "cell_type": "code",
   "execution_count": 14,
   "metadata": {},
   "outputs": [
    {
     "data": {
      "text/plain": [
       "Found docker images, pulling...\n",
       "Pulling docker image: alpine:latest\n",
       "2020-11-18T08:31:35.371344954Z Hello from the flow.yaml\n",
       "Item {itemHash = ContentHash \"e3b0c44298fc1c149afbf4c8996fb92427ae41e4649b934ca495991b7852b855\"}"
      ]
     },
     "metadata": {},
     "output_type": "display_data"
    }
   ],
   "source": [
    "{-# LANGUAGE QuasiQuotes #-}\n",
    "\n",
    "import Path (reldir, relfile, (</>))\n",
    "import System.Directory (getCurrentDirectory)\n",
    "      \n",
    "flow2 = dockerFlow $ \n",
    "    DockerTaskConfig {\n",
    "        image=\"alpine:latest\",\n",
    "        command=\"echo\",\n",
    "        args=[Arg $ ConfigFromFile \"ourMessage\"]\n",
    "    }\n",
    "do\n",
    "    cwd <- parseAbsDir =<< getCurrentDirectory\n",
    "    let storeDirPath = cwd </> [reldir|./.tmp/store|]\n",
    "        configFilePath = cwd </> [relfile|./flow.yaml|]\n",
    "        flowConfig = RunFlowConfig {configFile = Just configFilePath, storePath = storeDirPath}\n",
    "    runFlowWithConfig flowConfig flow2 DockerTaskInput {inputBindings = [], argsVals = mempty} :: IO CS.Item"
   ]
  }
 ],
 "metadata": {
  "kernelspec": {
   "display_name": "Haskell - haskell",
   "language": "haskell",
   "name": "ihaskell_haskell"
  },
  "language_info": {
   "codemirror_mode": "Haskell",
   "file_extension": ".hs",
   "mimetype": "text/x-haskell",
   "name": "haskell",
   "pygments_lexer": "Haskell",
   "version": "8.8.4"
  }
 },
 "nbformat": 4,
 "nbformat_minor": 4
}
