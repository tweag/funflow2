{
 "cells": [
  {
   "cell_type": "markdown",
   "metadata": {},
   "source": [
    "# Handling failures in pipelines with funflow\n",
    "\n",
    "A pipeline often comprises tasks that can fail.\n",
    "It is important to prevent such failures as early as possible, like funflow tries to do, but it does not forbid from preparing for it.\n",
    "\n",
    "In this tutorial, we will present how funflow allows to handle failure from tasks."
   ]
  },
  {
   "cell_type": "markdown",
   "metadata": {},
   "source": [
    "## Requirements\n",
    "\n",
    "This tutorial will use the following language extensions:"
   ]
  },
  {
   "cell_type": "code",
   "execution_count": 1,
   "metadata": {},
   "outputs": [
    {
     "data": {
      "text/html": [
       "<style>/* Styles used for the Hoogle display in the pager */\n",
       ".hoogle-doc {\n",
       "display: block;\n",
       "padding-bottom: 1.3em;\n",
       "padding-left: 0.4em;\n",
       "}\n",
       ".hoogle-code {\n",
       "display: block;\n",
       "font-family: monospace;\n",
       "white-space: pre;\n",
       "}\n",
       ".hoogle-text {\n",
       "display: block;\n",
       "}\n",
       ".hoogle-name {\n",
       "color: green;\n",
       "font-weight: bold;\n",
       "}\n",
       ".hoogle-head {\n",
       "font-weight: bold;\n",
       "}\n",
       ".hoogle-sub {\n",
       "display: block;\n",
       "margin-left: 0.4em;\n",
       "}\n",
       ".hoogle-package {\n",
       "font-weight: bold;\n",
       "font-style: italic;\n",
       "}\n",
       ".hoogle-module {\n",
       "font-weight: bold;\n",
       "}\n",
       ".hoogle-class {\n",
       "font-weight: bold;\n",
       "}\n",
       ".get-type {\n",
       "color: green;\n",
       "font-weight: bold;\n",
       "font-family: monospace;\n",
       "display: block;\n",
       "white-space: pre-wrap;\n",
       "}\n",
       ".show-type {\n",
       "color: green;\n",
       "font-weight: bold;\n",
       "font-family: monospace;\n",
       "margin-left: 1em;\n",
       "}\n",
       ".mono {\n",
       "font-family: monospace;\n",
       "display: block;\n",
       "}\n",
       ".err-msg {\n",
       "color: red;\n",
       "font-style: italic;\n",
       "font-family: monospace;\n",
       "white-space: pre;\n",
       "display: block;\n",
       "}\n",
       "#unshowable {\n",
       "color: red;\n",
       "font-weight: bold;\n",
       "}\n",
       ".err-msg.in.collapse {\n",
       "padding-top: 0.7em;\n",
       "}\n",
       ".highlight-code {\n",
       "white-space: pre;\n",
       "font-family: monospace;\n",
       "}\n",
       ".suggestion-warning { \n",
       "font-weight: bold;\n",
       "color: rgb(200, 130, 0);\n",
       "}\n",
       ".suggestion-error { \n",
       "font-weight: bold;\n",
       "color: red;\n",
       "}\n",
       ".suggestion-name {\n",
       "font-weight: bold;\n",
       "}\n",
       "</style><div class=\"suggestion-name\" style=\"clear:both;\">Unused LANGUAGE pragma</div><div class=\"suggestion-row\" style=\"float: left;\"><div class=\"suggestion-warning\">Found:</div><div class=\"highlight-code\" id=\"haskell\">{-# LANGUAGE Arrows #-}</div></div><div class=\"suggestion-row\" style=\"float: left;\"><div class=\"suggestion-warning\">Why Not:</div><div class=\"highlight-code\" id=\"haskell\"></div></div><div class=\"suggestion-name\" style=\"clear:both;\">Unused LANGUAGE pragma</div><div class=\"suggestion-row\" style=\"float: left;\"><div class=\"suggestion-warning\">Found:</div><div class=\"highlight-code\" id=\"haskell\">{-# LANGUAGE TypeApplications #-}</div></div><div class=\"suggestion-row\" style=\"float: left;\"><div class=\"suggestion-warning\">Why Not:</div><div class=\"highlight-code\" id=\"haskell\"></div></div><div class=\"suggestion-name\" style=\"clear:both;\">Unused LANGUAGE pragma</div><div class=\"suggestion-row\" style=\"float: left;\"><div class=\"suggestion-warning\">Found:</div><div class=\"highlight-code\" id=\"haskell\">{-# LANGUAGE OverloadedStrings #-}</div></div><div class=\"suggestion-row\" style=\"float: left;\"><div class=\"suggestion-warning\">Why Not:</div><div class=\"highlight-code\" id=\"haskell\"></div></div>"
      ],
      "text/plain": [
       "Line 1: Unused LANGUAGE pragma\n",
       "Found:\n",
       "{-# LANGUAGE Arrows #-}\n",
       "Why not:\n",
       "Line 2: Unused LANGUAGE pragma\n",
       "Found:\n",
       "{-# LANGUAGE TypeApplications #-}\n",
       "Why not:\n",
       "Line 3: Unused LANGUAGE pragma\n",
       "Found:\n",
       "{-# LANGUAGE OverloadedStrings #-}\n",
       "Why not:"
      ]
     },
     "metadata": {},
     "output_type": "display_data"
    }
   ],
   "source": [
    "{-# LANGUAGE Arrows #-}\n",
    "{-# LANGUAGE TypeApplications #-}\n",
    "{-# LANGUAGE OverloadedStrings #-}"
   ]
  },
  {
   "cell_type": "markdown",
   "metadata": {},
   "source": [
    "and imports:"
   ]
  },
  {
   "cell_type": "code",
   "execution_count": 2,
   "metadata": {},
   "outputs": [],
   "source": [
    "import Control.Exception.Safe (SomeException)\n",
    "import qualified Data.CAS.ContentStore as CS\n",
    "import Funflow (Flow, pureFlow, ioFlow, dockerFlow, throwStringFlow, returnFlow, tryE)\n",
    "import Funflow.Tasks.Docker (DockerTaskConfig (DockerTaskConfig), DockerTaskInput (DockerTaskInput), args, argsVals, command, image, inputBindings, Arg(Placeholder))"
   ]
  },
  {
   "cell_type": "markdown",
   "metadata": {},
   "source": [
    "## Handle a task that can fail\n",
    "\n",
    "Let's imagine that we write a task that can fail, such as a Docker task:"
   ]
  },
  {
   "cell_type": "code",
   "execution_count": 3,
   "metadata": {},
   "outputs": [],
   "source": [
    "someFlowThatFails :: Flow DockerTaskInput CS.Item\n",
    "someFlowThatFails = dockerFlow (DockerTaskConfig {image = \"badImageName\", command = \"badCommand\", args = [Placeholder \"missingArgument\"]})"
   ]
  },
  {
   "cell_type": "markdown",
   "metadata": {},
   "source": [
    "this flow can possibly fail for different reasons:\n",
    "- the image name does not exist or cannot be pulled\n",
    "- the command does not exist\n",
    "- the command exists with an error code\n",
    "- one of the placeholder arguments is not filled\n",
    "\n",
    "> More about that in the API documentation of the Docker task.\n",
    "\n",
    "If we were to directly run this flow, the workflow would terminate as soon as an exception would be thrown.\n",
    "\n",
    "In order to handle the exception, we have to use funflow's `tryE` function.\n",
    "This function transforms a `Flow i o` that can throw an exception of type `ex` into a flow of type `Flow i (Either ex o)`.\n",
    "This means that the result of the flow is either the exception on the left or the result on the right."
   ]
  },
  {
   "cell_type": "code",
   "execution_count": 4,
   "metadata": {},
   "outputs": [],
   "source": [
    "flow :: Flow () String\n",
    "flow = proc () -> do\n",
    "  -- Try to run a flow that fails, receive the result in an @Either SomeException ()@\n",
    "  result <- tryE @SomeException someFlowThatFails -< DockerTaskInput {inputBindings = mempty, argsVals = mempty}\n",
    "  case result of\n",
    "    Left _ ->\n",
    "      returnFlow -< \"The task failed\"\n",
    "    Right _ ->\n",
    "      returnFlow -< \"The task succeeded\""
   ]
  },
  {
   "cell_type": "markdown",
   "metadata": {},
   "source": [
    "In this example, we run the docker task, but we wrap it with the `tryE` function in order to receive the exception if any is thrown.\n",
    "We can then decide on how the rest of the pipeline behaves after the task, even if it failed.\n",
    "We could for instance log the exception to a file or realise cleaning operations.\n",
    "\n",
    "Note that we had to specify which type of exception we were excepting to have when writing `(result :: Either SomeException CS.Item)`.\n",
    "This requires the `ScopedTypeVariables` extension."
   ]
  },
  {
   "cell_type": "markdown",
   "metadata": {},
   "source": [
    "## Throwing exceptions in a workflow\n",
    "\n",
    "The implementation of tasks will most often throw an exception whenever something has failed.\n",
    "However, sometimes, based on the result of a computation, you want to decide that a task has failed.\n",
    "\n",
    "In funflow, it is possible for you to throw an exception manually, using `throwStringFlow`:"
   ]
  },
  {
   "cell_type": "code",
   "execution_count": 5,
   "metadata": {},
   "outputs": [],
   "source": [
    "flowThatFails :: Flow () ()\n",
    "flowThatFails = proc () -> do\n",
    "  -- Do some computations first (this is a dummy example)\n",
    "  result <- pureFlow id -< ()\n",
    "  -- Depending on the result, throw an exception\n",
    "  if result == ()\n",
    "    then throwStringFlow -< \"Nothing has been done (as expected for this example)\"\n",
    "    else returnFlow -< ()"
   ]
  },
  {
   "cell_type": "markdown",
   "metadata": {},
   "source": [
    "you can then handle the failure as previously demonstrated:"
   ]
  },
  {
   "cell_type": "code",
   "execution_count": 6,
   "metadata": {},
   "outputs": [],
   "source": [
    "flow' :: Flow () ()\n",
    "flow' = proc () -> do\n",
    "  -- Try to run a flow that fails, receive the result in an @Either SomeException ()@\n",
    "  result <- tryE @SomeException flowThatFails -< ()\n",
    "  -- Handle result as previously shown\n",
    "  case result of\n",
    "    Left exception ->\n",
    "      (ioFlow $ \\exception -> putStrLn $ \"Exception caught: \" ++ show exception) -< exception\n",
    "    Right () ->\n",
    "      ioFlow $ const $ error \"Exception not caught\" -< ()"
   ]
  }
 ],
 "metadata": {
  "kernelspec": {
   "display_name": "Haskell - haskell",
   "language": "haskell",
   "name": "ihaskell_haskell"
  },
  "language_info": {
   "codemirror_mode": "Haskell",
   "file_extension": ".hs",
   "mimetype": "text/x-haskell",
   "name": "haskell",
   "pygments_lexer": "Haskell",
   "version": "8.8.3"
  }
 },
 "nbformat": 4,
 "nbformat_minor": 4
}
