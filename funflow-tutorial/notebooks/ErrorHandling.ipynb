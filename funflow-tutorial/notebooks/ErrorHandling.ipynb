{
 "cells": [
  {
   "cell_type": "markdown",
   "metadata": {},
   "source": [
    "# Handling failures in pipelines with funflow\n",
    "\n",
    "Many pipelines are configurable, and different parameter sets may be nonsensical. Furthermore, differences in input data or the state of a network or other resources may lead to an less obvious state of error. This is to say that pipelines are somewhat inherently susceptible to encountering an exceptional condition. \n",
    "\n",
    "As such, funflow provides some facility, which we present in this tutorial, with which a pipeline may be programmed to handle errors gracefully."
   ]
  },
  {
   "cell_type": "markdown",
   "metadata": {},
   "source": [
    "## Requirements\n",
    "\n",
    "This tutorial will use the following language extensions..."
   ]
  },
  {
   "cell_type": "code",
   "execution_count": 1,
   "metadata": {},
   "outputs": [],
   "source": [
    ":opt no-lint\n",
    "{-# LANGUAGE Arrows #-}               -- pipeline flow syntax\n",
    "{-# LANGUAGE TypeApplications #-}     -- declaring exception types to handle\n",
    "{-# LANGUAGE OverloadedStrings #-}    -- polymorphic String typing"
   ]
  },
  {
   "cell_type": "markdown",
   "metadata": {},
   "source": [
    "...and imports..."
   ]
  },
  {
   "cell_type": "code",
   "execution_count": 10,
   "metadata": {},
   "outputs": [],
   "source": [
    "import Control.Exception.Safe (SomeException)\n",
    "import qualified Data.CAS.ContentStore as CS\n",
    "import Funflow (Flow, pureFlow, ioFlow, dockerFlow, throwStringFlow, returnFlow, tryE)\n",
    "import Funflow.Tasks.Docker (DockerTaskConfig (DockerTaskConfig), DockerTaskInput (DockerTaskInput), args, argsVals, command, image, inputBindings, Arg(Placeholder))"
   ]
  },
  {
   "cell_type": "markdown",
   "metadata": {},
   "source": [
    "## Handle a task that can fail\n",
    "\n",
    "Let's write a flow, based on a `DockerTask`, which will fail:"
   ]
  },
  {
   "cell_type": "code",
   "execution_count": 11,
   "metadata": {},
   "outputs": [],
   "source": [
    "someFlowThatFails :: Flow DockerTaskInput CS.Item\n",
    "someFlowThatFails = dockerFlow DockerTaskConfig{ image = \"badImageName\", command = \"badCommand\", args = [Placeholder \"missingArgument\"] }"
   ]
  },
  {
   "cell_type": "markdown",
   "metadata": {},
   "source": [
    "As may be clear, this flow demonstrates several reasons a flow may fail:\n",
    "- the Docker image name does not exist or cannot be pulled\n",
    "- improper argument configuration (e.g., a placeholder isn't filled)\n",
    "- the command does not exist\n",
    "- command execution fails\n",
    "\n",
    "In fact, if we were to try to run this flow directly with `runFlow` or `runFlowWithConfig`, nothing in a container would ever be done. An attempt to fetch `\"badImageName\"` would fail, but execution of the above flow would actually never proceed to the fetch attempt. Instead, the flow would fail at _configuration time_, as the task was being \"interpreted,\" since we've not defined how to fill the placeholder `\"missingArgument\"`.\n",
    "\n",
    "To prepare a flow for exception(s), we can use funflow's `tryE` function, which broadens the output type to accommodate potential for specific exception types. Specifically, `tryE` transforms a `Flow i o` that can throw an exception of type `ex` into a flow of type `Flow i (Either ex o)`. This means that the result of the flow is either the exception on the left or the result on the right. This transformation means that occurrence of some types of exception will _no longer be fatal_! Instead, the flow will be able to produce an exception of the declared type as a value, allowing downstream logic to process it and act accordingly."
   ]
  },
  {
   "cell_type": "code",
   "execution_count": 12,
   "metadata": {},
   "outputs": [],
   "source": [
    "flow :: Flow () String\n",
    "flow = proc () -> do\n",
    "  -- Try to run a flow that fails, receive the result in an @Either SomeException ()@\n",
    "  result <- tryE @SomeException someFlowThatFails -< DockerTaskInput {inputBindings = mempty, argsVals = mempty}\n",
    "  case result of\n",
    "    Left _ ->\n",
    "      returnFlow -< \"The task failed\"\n",
    "    Right _ ->\n",
    "      returnFlow -< \"The task succeeded\""
   ]
  },
  {
   "cell_type": "markdown",
   "metadata": {},
   "source": [
    "In this example, to catch _any_ exception, we use `tryE` to wrap execution of the Docker task.\n",
    "We can then decide how the rest of the pipeline behaves, since we've catpured the result--exceptional or not--in a value of a broadened result type. We could, for instance, in case of an exception, write logging information to a file and/or run cleanup operations.\n",
    "\n",
    "Notice that we had to __specify which type of exceptions__ will be handled: `tryE @SomeException...`. As such, `tryE` requires explicit specification regarding the extent of exception types the pipeline will handle; in turn, this feature requires the [`TypeApplications` extension](https://ghc.gitlab.haskell.org/ghc/doc/users_guide/exts/type_applications.html).\n",
    "\n",
    "Also note that the several potential failure causes mentioned above are ordered chronologically by when each may be encountered during an run attempt. Because the first two--unknown image name and illegal configuration--occur during _task interpretation_, before actual execution begins, those error causes cannot be protected by `tryE`. They may be handled with ordinary machinery for exceptional control flow, though, e.g. using the `Control.Exception` API. In addition to more standard exceptions relating to things like filesystem permissions and network requests, funflow provides some custom error types around which you may wish to program a flow, particularly those in `Data.CAS.ContentStore`, `Data.CAS.RemoteCache`, and `Docker.API.Client`."
   ]
  },
  {
   "cell_type": "markdown",
   "metadata": {},
   "source": [
    "## Throwing exceptions in a workflow\n",
    "\n",
    "A task will may fail on its own, when an exception arises. Sometimes, however, you may want to _decide_ that a task has failed, based on the actual value of a computed result.\n",
    "\n",
    "In funflow, it is possible for you to throw an exception manually, using `throwStringFlow`..."
   ]
  },
  {
   "cell_type": "code",
   "execution_count": 13,
   "metadata": {},
   "outputs": [],
   "source": [
    "flowThatFails :: Flow () ()\n",
    "flowThatFails = proc () -> do\n",
    "  -- Do some computations first (this is a dummy example)\n",
    "  result <- pureFlow id -< ()\n",
    "  -- Depending on the result, throw an exception\n",
    "  if result == ()\n",
    "    then throwStringFlow -< \"Nothing has been done (as expected for this example)\"\n",
    "    else returnFlow -< ()"
   ]
  },
  {
   "cell_type": "markdown",
   "metadata": {},
   "source": [
    "...you can then handle the failure as previously demonstrated..."
   ]
  },
  {
   "cell_type": "code",
   "execution_count": 14,
   "metadata": {},
   "outputs": [],
   "source": [
    "flow' :: Flow () ()\n",
    "flow' = proc () -> do\n",
    "  -- Try to run a flow that fails, receive the result in an @Either SomeException ()@\n",
    "  result <- tryE @SomeException flowThatFails -< ()\n",
    "  -- Handle result as previously shown\n",
    "  case result of\n",
    "    Left exception ->\n",
    "      (ioFlow $ \\exception -> putStrLn $ \"Exception caught: \" ++ show exception) -< exception\n",
    "    Right () ->\n",
    "      ioFlow $ const $ error \"Exception not caught\" -< ()"
   ]
  }
 ],
 "metadata": {
  "kernelspec": {
   "display_name": "Haskell - haskell",
   "language": "haskell",
   "name": "ihaskell_haskell"
  },
  "language_info": {
   "codemirror_mode": "Haskell",
   "file_extension": ".hs",
   "mimetype": "text/x-haskell",
   "name": "haskell",
   "pygments_lexer": "Haskell",
   "version": "8.8.4"
  }
 },
 "nbformat": 4,
 "nbformat_minor": 4
}
