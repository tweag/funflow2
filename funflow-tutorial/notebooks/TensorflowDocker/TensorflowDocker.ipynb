{
 "cells": [
  {
   "cell_type": "markdown",
   "metadata": {},
   "source": [
    "# Example: ML Pipeline with Funflow, Tensorflow, and Docker\n",
    "\n",
    "In this example, we will examine a common use case for workflow tools: orchestrating the training and deployment of ML models. \n",
    "We've prepared two Python scripts: `train_mnist.py` and `inference_mnist.py`. These scripts contain logic for training an image classifier and \n",
    "making predictions using the trained classifier. They are written using the Python Tensorflow API and have some additional Python package dependencies which are\n",
    "defined in a `requirements.txt` file. Our goal in this example is to use `funflow` to train a new model using `train_mnist.py` and test it out on some demo images using `inference_mnist.py`.\n",
    "\n",
    "While you might already have Python and Tensorflow installed on your development machine, deploying these scripts to a production environment can be tricky. Docker containers are a common solution to this problem since they allow you to prepare an isolated environment which contains your application's dependencies. Lucky for us, `funflow` supports running `DockerTasks` out of the box, and there is a pre-prepared tensorflow image already available [on DockerHub](). All we need to do is add our script and its dependencies to it, and we will be good to go. \n",
    "\n",
    "Let's get started.\n",
    "\n",
    "First, we need to enable a couple of Haskell language extensions and run some imports:"
   ]
  },
  {
   "cell_type": "code",
   "execution_count": 106,
   "metadata": {},
   "outputs": [],
   "source": [
    ":opt no-lint\n",
    "\n",
    "{-# LANGUAGE Arrows #-}\n",
    "{-# LANGUAGE OverloadedStrings #-}\n",
    "{-# LANGUAGE QuasiQuotes #-}\n",
    "\n",
    "-- Funflow libraries\n",
    "import qualified Data.CAS.ContentStore as CS\n",
    "import Funflow\n",
    "  ( Flow,\n",
    "    dockerFlow,\n",
    "    ioFlow,\n",
    "    getDir,\n",
    "    pureFlow,\n",
    "    putDir,\n",
    "    runFlow,\n",
    "  )\n",
    "import Funflow.Tasks.Docker (DockerTaskConfig (DockerTaskConfig), DockerTaskInput (DockerTaskInput), VolumeBinding (VolumeBinding))\n",
    "import qualified Funflow.Tasks.Docker as DE\n",
    "\n",
    "-- Other libraries\n",
    "import Path (toFilePath, Abs, Dir, Path, Rel, File, absdir, mkRelDir, parseAbsDir, relfile, reldir, (</>))\n",
    "import Path.IO (makeAbsolute)\n",
    "import System.Directory (copyFile, getCurrentDirectory)\n",
    "import System.IO (FilePath)\n",
    "import Codec.Picture (readImage, DynamicImage, generateImage, convertRGB16, PixelRGB16 (..))"
   ]
  },
  {
   "cell_type": "markdown",
   "metadata": {},
   "source": [
    "## Adding data to the `funflow` content store\n",
    "\n",
    "Since we are using the pre-built `tensorflow` Docker container, we'll need to mount our scripts to it as a volume. To promote reproducibility, `funflow` only supports mounting host directories to docker containers using its internal content store which keeps track of directory contents via hashes. This means that we'll need to ingest our script directory before running any Docker tasks: "
   ]
  },
  {
   "cell_type": "code",
   "execution_count": 2,
   "metadata": {},
   "outputs": [],
   "source": [
    "-- | Helper for getting the absolute path to the tensorflow example directory\n",
    "tfExampleDir :: () -> IO (Path Abs Dir)\n",
    "tfExampleDir _ = do\n",
    "  cwd <- getCurrentDirectory\n",
    "  cwdAbs <- parseAbsDir cwd\n",
    "  return $ cwdAbs </> [reldir|./tensorflow-example|]\n",
    "\n",
    "-- | A `Flow` which copies the tensorflow example to the content store\n",
    "-- so it can be used in downstream tasks\n",
    "copyExampleToStore :: Flow () CS.Item\n",
    "copyExampleToStore = proc _ -> do\n",
    "  exampleDir <- ioFlow tfExampleDir -< ()\n",
    "  putDir -< exampleDir"
   ]
  },
  {
   "cell_type": "markdown",
   "metadata": {},
   "source": [
    "## Training the model\n",
    "\n",
    "Now that we've defined a task for adding our Python scripts to the content store, we are ready to define a docker task which will run our model training script.\n",
    "\n",
    "The output of our script is a serialized version of our model. Docker tasks in `funflow` return a content store directory of type `CS.Item` containing all files generated in the container's working directory. "
   ]
  },
  {
   "cell_type": "code",
   "execution_count": 3,
   "metadata": {},
   "outputs": [],
   "source": [
    "trainTaskConfig :: DockerTaskConfig\n",
    "trainTaskConfig =\n",
    "  DockerTaskConfig\n",
    "    { DE.image = \"tensorflow/tensorflow:2.3.0\",\n",
    "      DE.command = \"bash\",\n",
    "      -- Note: we are installing our script's requirements so we can use the default tensorflow image\n",
    "      -- we could have also prepared an image with these requirements already installed.\n",
    "      DE.args =\n",
    "        [ \"-c\",\n",
    "          \"pip install -r /tensorflow-example/requirements.txt && \\\n",
    "          \\ python /tensorflow-example/train_mnist.py --n_epochs 10 ./model\"\n",
    "        ]\n",
    "    }\n",
    "\n",
    "-- | Trains a tensorflow digit recognition model and outputs the serialized model\n",
    "trainModel :: Flow CS.Item CS.Item\n",
    "trainModel = proc exampleItem -> do\n",
    "  -- Define a volume for the example directory\n",
    "  let exampleVolume = VolumeBinding {DE.item = exampleItem, DE.mount = [absdir|/tensorflow-example/|]}\n",
    "  (dockerFlow trainTaskConfig) -< DockerTaskInput {DE.inputBindings = [exampleVolume], DE.argsVals = mempty}\n"
   ]
  },
  {
   "cell_type": "markdown",
   "metadata": {},
   "source": [
    "## Making predictions\n",
    "\n",
    "With our model trained, the final task in our flow is to run the model on a set of demo images which are included with the example scripts. Since the trained model was output from our training task as a content store item, we can mount it directly to the container in our next Docker task."
   ]
  },
  {
   "cell_type": "code",
   "execution_count": 70,
   "metadata": {},
   "outputs": [],
   "source": [
    "inferenceTaskConfig :: DockerTaskConfig\n",
    "inferenceTaskConfig = \n",
    "  DockerTaskConfig\n",
    "    { DE.image = \"tensorflow/tensorflow:2.3.0\",\n",
    "      DE.command = \"bash\",\n",
    "      DE.args =\n",
    "      [ \"-c\",\n",
    "       \"pip install -r /tensorflow-example/requirements.txt && \\\n",
    "      \\ python /tensorflow-example/inference_mnist.py /trained/model /tensorflow-example/demo-images ./summary.png\"\n",
    "      ]\n",
    "    }\n",
    "  \n",
    "-- | Runs a trained tensorflow digit recognition model on some demo images and outputs a plot\n",
    "-- of its classifications.\n",
    "runModel :: Flow (CS.Item, CS.Item) CS.Item\n",
    "runModel = proc (exampleItem, trainedModelItem) -> do\n",
    "  -- Define volumes for the example directory and the previously trained model\n",
    "  let exampleVolume = VolumeBinding {DE.item = exampleItem, DE.mount = [absdir|/tensorflow-example/|]}\n",
    "  let trainedModelVolume = VolumeBinding {DE.item = trainedModelItem, DE.mount = [absdir|/trained/|]}\n",
    "  dockerFlow inferenceTaskConfig -< DockerTaskInput {DE.inputBindings = [exampleVolume, trainedModelVolume], DE.argsVals = mempty}\n",
    "  "
   ]
  },
  {
   "cell_type": "markdown",
   "metadata": {},
   "source": [
    "The `inference_mnist.py` script outputs a plot summarizing its predictions for the demo images. We can create a simple `IOFlow` to read this file and render it."
   ]
  },
  {
   "cell_type": "code",
   "execution_count": 91,
   "metadata": {},
   "outputs": [],
   "source": [
    "readImageWithDefault :: String -> IO (Image PixelRGB16)\n",
    "readImageWithDefault imagePath = do \n",
    "    img <- readImage imagePath\n",
    "    case img of \n",
    "      Left errorMessage -> do\n",
    "          putStrLn \"There was an error reading the image file\"\n",
    "          putStrLn errorMessage\n",
    "          putStrLn \"Returning a blank default image\"\n",
    "          return $ generateImage (\\x y -> PixelRGB16 0 0 0) 128 128\n",
    "      Right img -> return $ convertRGB16 img \n",
    "      \n",
    "plotSummary :: Flow String (Image PixelRGB16)\n",
    "plotSummary = ioFlow readImageWithDefault"
   ]
  },
  {
   "cell_type": "markdown",
   "metadata": {},
   "source": [
    "## Constructing and running the flow\n",
    "With that, we are ready to construct our final `Flow` DAG"
   ]
  },
  {
   "cell_type": "code",
   "execution_count": 110,
   "metadata": {},
   "outputs": [],
   "source": [
    "flow :: Flow () (Image PixelRGB16)\n",
    "flow = proc _ -> do\n",
    "  tensorflowExample <- copyExampleToStore -< ()\n",
    "  trainedModel <- trainModel -< tensorflowExample\n",
    "  modelSummary <- runModel -< (tensorflowExample, trainedModel)\n",
    "  outputDir <- getDir -< modelSummary\n",
    "  summaryFile <- pureFlow (\\x -> toFilePath (x </> [relfile|summary.png|])) -< outputDir\n",
    "  plotSummary -< summaryFile"
   ]
  },
  {
   "cell_type": "markdown",
   "metadata": {},
   "source": [
    "And finally, we can run the flow and show its output:"
   ]
  },
  {
   "cell_type": "code",
   "execution_count": 112,
   "metadata": {},
   "outputs": [
    {
     "data": {
      "image/png": "[encoded data removed]"
     },
     "metadata": {},
     "output_type": "display_data"
    }
   ],
   "source": [
    "flowOutput :: IO (Image PixelRGB16)\n",
    "flowOutput = runFlow flow ()\n",
    "flowOutput"
   ]
  }
 ],
 "metadata": {
  "kernelspec": {
   "display_name": "Haskell - haskell",
   "language": "haskell",
   "name": "ihaskell_haskell"
  },
  "language_info": {
   "codemirror_mode": "Haskell",
   "file_extension": ".hs",
   "mimetype": "text/x-haskell",
   "name": "haskell",
   "pygments_lexer": "Haskell",
   "version": "8.8.3"
  }
 },
 "nbformat": 4,
 "nbformat_minor": 4
}
