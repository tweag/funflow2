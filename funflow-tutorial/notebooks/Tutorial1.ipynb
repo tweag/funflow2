{
 "cells": [
  {
   "cell_type": "markdown",
   "metadata": {},
   "source": [
    "# First steps with `funflow`\n",
    "\n",
    "## Introduction\n",
    "\n",
    "`funflow` is a Haskell library for defining and running _workflows_.\n",
    "A workflow specifies a pipeline of _tasks_ structured in a Direct Acyclic Graph (DAG).\n",
    "Workflows in `funflow` have the great property of being composable which means that  you can easily share and combine components across different workflows.\n",
    "It supports type checking, result caching, and other features that simplify setting up your machinery.\n",
    "\n",
    "_Let's get started_\n",
    "\n",
    "## Anatomy of a Flow\n",
    "\n",
    "In `funflow`, we refer to workflows as `flows`.\n",
    "A `Flow` takes an input and produces an  output, and `funflow` describes it with a unique and simple type:\n",
    "\n",
    "```haskell\n",
    "flow :: Flow input output\n",
    "```\n",
    "\n",
    "`input` and `output` are the types of the input and output values of the flow.\n",
    "For instance a flow working on numbers might have the following type signature:\n",
    "\n",
    "```haskell\n",
    "flow :: Flow Int Int\n",
    "```\n",
    "\n",
    "It takes an integer as input and produces an integer as its output.\n",
    "A flow that doesn't take any input can be written as:\n",
    "\n",
    "```haskell\n",
    "flow :: Flow () Int\n",
    "```\n",
    "\n",
    "Such a flow might request some user input or download some data.\n",
    "\n",
    "## Tasks\n",
    "\n",
    "A `Flow` is a DAG comprising one or more `Tasks` which describe __what__ you would like to execute. \n",
    "`funflow` works with a wide range of task granularities.\n",
    "A `Task` can be a simple Haskell function, a database query, a command to run in a Docker container, or more. \n",
    "\n",
    "There are several different types of tasks in Funflow, each describing a specific type of computation. \n",
    "Tasks are defined in the `Funflow.Tasks` subpackage.\n",
    "The most basic task, the datatype `PureTask`, represents  a pure Haskell function which has no _side effects_ such as reading a file or running a command.\n",
    "Other task datatypes include `IOTask`, which runs a Haskell function which can perform I/O (e.g. reading a file), and `DockerTask`, which runs a \n",
    "[Docker](https://docs.docker.com/get-docker/) container.\n",
    "\n",
    "\n",
    "## How to create Flows\n",
    "\n",
    "The function `toFlow` is used to construct a `Flow`.\n",
    "It can be imported from the top level `Funflow` module and is defined in `Funflow.Flow`.\n",
    "It integrates a `Task` into a `Flow` which can then be composed with other flows into a larger, final `Flow` DAG.\n",
    "\n",
    "Here is a `Flow` that runs a `PureTask`, incrementing its input by 1."
   ]
  },
  {
   "cell_type": "code",
   "execution_count": 4,
   "metadata": {},
   "outputs": [],
   "source": [
    "import Funflow\n",
    "import Funflow.Tasks.Simple (SimpleTask (PureTask))\n",
    "\n",
    "flow :: Flow Int Int\n",
    "flow = toFlow $ PureTask (+1)"
   ]
  },
  {
   "cell_type": "markdown",
   "metadata": {},
   "source": [
    "In this example, `flow` is essentially a DAG with one node, `PureTask (+1)`. \n",
    "Here is a flow that runs a simple IO task which prints its input.\n",
    "\n",
    "```haskell\n",
    "flow :: Flow String ()\n",
    "flow = toFlow $ IOTask putStrLn\n",
    "```\n",
    "\n",
    "Single-task `Flows` like the ones above can also be created directly using their smart constructors.\n",
    "For instance, instead of the previous, one can write:\n",
    "\n",
    "```haskell\n",
    "flow :: Flow Int Int\n",
    "flow = pureFlow (+1)\n",
    "```\n",
    "\n",
    "or\n",
    "\n",
    "```haskell\n",
    "flow :: Flow String ()\n",
    "flow = ioFlow putStrLn\n",
    "```\n",
    "\n",
    "Smart constuctors for other task types are defined in `Funflow.Flow`.\n",
    "\n",
    "## Execute a flow\n",
    "\n",
    "Everything needed to run flows is available in the module `Funflow.Run`.\n",
    "The function `runFlow` is the main way to execute a flow:\n",
    "\n",
    "```haskell\n",
    "runFlow flow input\n",
    "```\n",
    "\n",
    "where\n",
    "\n",
    "- `flow` is the `Flow` to run\n",
    "- `input` is the input, with the same type as the input type of `flow`\n",
    "\n",
    "It will return a result of type `IO output` where `output` is the output type of `flow`.\n",
    "Let's run our flow from earlier:"
   ]
  },
  {
   "cell_type": "code",
   "execution_count": 5,
   "metadata": {},
   "outputs": [
    {
     "data": {
      "text/plain": [
       "2"
      ]
     },
     "metadata": {},
     "output_type": "display_data"
    }
   ],
   "source": [
    "runFlow flow (1 :: Int) :: IO Int"
   ]
  },
  {
   "cell_type": "markdown",
   "metadata": {},
   "source": [
    "As expected, it returned 2.\n",
    "\n",
    "Astute readers may have noticed that the output of runFlow is of type `IO output` and not simply `output`.\n",
    "This wrapping of `output` in `IO` happens because runFlow uses a context in which all possible Task types can be\n",
    "executed. Since runFlow supports IO and Docker tasks, both of which utilize I/O, the output of runFlow is also of type `IO`.\n",
    "\n",
    "## Next Steps\n",
    "\n",
    "With the basics out of the way, you should be ready to start writing your first `flows`. Check out the [wordcount flow tutorial](./wordcount.html)\n",
    "for a guided example.\n"
   ]
  }
 ],
 "metadata": {
  "kernelspec": {
   "display_name": "Haskell - haskell",
   "language": "haskell",
   "name": "ihaskell_haskell"
  },
  "language_info": {
   "codemirror_mode": "Haskell",
   "file_extension": ".hs",
   "mimetype": "text/x-haskell",
   "name": "haskell",
   "pygments_lexer": "Haskell",
   "version": "8.8.3"
  }
 },
 "nbformat": 4,
 "nbformat_minor": 4
}
