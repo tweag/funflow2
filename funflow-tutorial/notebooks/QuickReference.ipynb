{
 "cells": [
  {
   "cell_type": "markdown",
   "metadata": {},
   "source": [
    "# funflow2: Quick reference\n",
    "\n",
    "This document presents how to use the API through short examples.\n",
    "\n",
    "This document uses the following language extensions:"
   ]
  },
  {
   "cell_type": "code",
   "execution_count": 7,
   "metadata": {},
   "outputs": [],
   "source": [
    ":opt no-lint"
   ]
  },
  {
   "cell_type": "code",
   "execution_count": 17,
   "metadata": {},
   "outputs": [],
   "source": [
    "{-# LANGUAGE Arrows #-}\n",
    "{-# LANGUAGE FlexibleContexts #-}\n",
    "{-# LANGUAGE GADTs #-}\n",
    "{-# LANGUAGE OverloadedStrings #-}"
   ]
  },
  {
   "cell_type": "markdown",
   "metadata": {},
   "source": [
    "All imports are available in the `Funflow` module:"
   ]
  },
  {
   "cell_type": "code",
   "execution_count": 14,
   "metadata": {},
   "outputs": [],
   "source": [
    "import Funflow"
   ]
  },
  {
   "cell_type": "markdown",
   "metadata": {},
   "source": [
    "### A minimal flow"
   ]
  },
  {
   "cell_type": "code",
   "execution_count": 12,
   "metadata": {},
   "outputs": [
    {
     "data": {
      "text/plain": [
       "\"Hello Watson !\""
      ]
     },
     "metadata": {},
     "output_type": "display_data"
    }
   ],
   "source": [
    "let\n",
    "  flow :: Flow String String\n",
    "  flow = pureFlow $ \\input -> \"Hello \" ++ input ++ \" !\"\n",
    "  input :: String\n",
    "  input = \"Watson\"\n",
    "  in\n",
    "    runFlow flow input :: IO String"
   ]
  },
  {
   "cell_type": "markdown",
   "metadata": {},
   "source": [
    "### Composing flows"
   ]
  },
  {
   "cell_type": "code",
   "execution_count": 13,
   "metadata": {},
   "outputs": [
    {
     "data": {
      "text/plain": [
       "\"Hello world\""
      ]
     },
     "metadata": {},
     "output_type": "display_data"
    }
   ],
   "source": [
    "let\n",
    "  flow1 :: Flow () String\n",
    "  flow1 = pureFlow $ \\input -> \"Hello\"\n",
    "\n",
    "  flow2 :: Flow String String\n",
    "  flow2 = pureFlow $ \\input -> input ++ \" world\"\n",
    "  \n",
    "  flow :: Flow () String\n",
    "  flow = flow1 >>> flow2\n",
    "  in\n",
    "    runFlow flow () :: IO String"
   ]
  },
  {
   "cell_type": "markdown",
   "metadata": {},
   "source": [
    "## Conditional branching"
   ]
  },
  {
   "cell_type": "code",
   "execution_count": 14,
   "metadata": {},
   "outputs": [
    {
     "data": {
      "text/plain": [
       "1"
      ]
     },
     "metadata": {},
     "output_type": "display_data"
    }
   ],
   "source": [
    "let\n",
    "  increment :: Flow Int Int\n",
    "  increment = pureFlow (+ 1)\n",
    "\n",
    "  reset :: Flow Int Int\n",
    "  reset = pureFlow (const 0)\n",
    "\n",
    "  limitedIncrement :: Flow Int Int\n",
    "  limitedIncrement = proc n -> do\n",
    "    if n < 10\n",
    "      then do increment -< n\n",
    "      else reset -< n\n",
    "\n",
    "  flow :: Flow Int Int\n",
    "  flow = limitedIncrement >>> limitedIncrement >>> limitedIncrement\n",
    "  in\n",
    "    do\n",
    "      runFlow flow (9 :: Int) :: IO Int"
   ]
  },
  {
   "cell_type": "markdown",
   "metadata": {},
   "source": [
    "## Caching a flow"
   ]
  },
  {
   "cell_type": "code",
   "execution_count": 16,
   "metadata": {},
   "outputs": [
    {
     "data": {
      "text/plain": [
       "Increment!\n",
       "Increment!"
      ]
     },
     "metadata": {},
     "output_type": "display_data"
    }
   ],
   "source": [
    "let\n",
    "  increment :: Flow Int Int\n",
    "  increment = ioFlow $ \\input -> do\n",
    "    putStrLn \"Increment!\"\n",
    "    return $ input + 1\n",
    "\n",
    "  reset :: Flow Int Int\n",
    "  reset = pureFlow $ \\input -> 0\n",
    "\n",
    "  cachedIncrement :: Flow Int Int\n",
    "  cachedIncrement = caching (\"increment\" :: String) increment\n",
    "\n",
    "  flow1 :: Flow Int Int\n",
    "  flow1 = reset >>> increment >>> reset >>> increment\n",
    "\n",
    "  flow2 :: Flow Int Int\n",
    "  flow2 = reset >>> cachedIncrement >>> reset >>> cachedIncrement\n",
    "  in\n",
    "    do\n",
    "    -- Prints \"Increment!\" twice to stdout\n",
    "    runFlow flow1 (0 :: Int) :: IO Int\n",
    "    -- Prints \"Increment!\" once to stdout\n",
    "    runFlow flow2 (0 :: Int) :: IO Int\n",
    "    return ()"
   ]
  },
  {
   "cell_type": "markdown",
   "metadata": {},
   "source": [
    "## Config\n",
    "\n",
    "Task fields / inputs of type `Configurable` can be subsituted with values from environment variables or a YAML file at load time. "
   ]
  },
  {
   "cell_type": "code",
   "execution_count": 18,
   "metadata": {},
   "outputs": [],
   "source": [
    "import Funflow.Config (Configurable (Literal, ConfigFromFile, ConfigFromEnv))\n",
    "import Funflow.Tasks.Docker\n",
    "flow3 = dockerFlow $ \n",
    "    DockerTaskConfig {\n",
    "        image=\"alpine:latest\",\n",
    "        command=\"echo\",\n",
    "        args=[Arg $ Literal \"foo\", Arg $ ConfigFromEnv \"SOME_VAR\", Arg $ ConfigFromFile \"someYAMLKey\"]\n",
    "    }"
   ]
  }
 ],
 "metadata": {
  "kernelspec": {
   "display_name": "Haskell - haskell",
   "language": "haskell",
   "name": "ihaskell_haskell"
  },
  "language_info": {
   "codemirror_mode": "Haskell",
   "file_extension": ".hs",
   "mimetype": "text/x-haskell",
   "name": "haskell",
   "pygments_lexer": "Haskell",
   "version": "8.8.4"
  }
 },
 "nbformat": 4,
 "nbformat_minor": 4
}
