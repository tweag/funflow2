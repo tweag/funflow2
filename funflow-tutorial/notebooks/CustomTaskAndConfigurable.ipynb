{
 "cells": [
  {
   "cell_type": "code",
   "execution_count": 1,
   "metadata": {},
   "outputs": [],
   "source": [
    ":opt no-lint\n",
    "-- Required language extensions\n",
    "{-# LANGUAGE DataKinds #-}             -- typelevel lists and tuples\n",
    "{-# LANGUAGE GADTs #-}                 -- task declaration\n",
    "{-# LANGUAGE OverloadedLabels #-}      -- named task disambiguation\n",
    "{-# LANGUAGE OverloadedStrings #-}     -- flexible string types\n",
    "{-# LANGUAGE RankNTypes #-}            -- polymorphism of Flow\n",
    "\n",
    "-- core types and functions used here\n",
    "import Funflow.Config (render, Configurable (..), ConfigKeysBySource (..), ExternalConfig)\n",
    "\n",
    "-- other necessary imports\n",
    "import System.Environment (setEnv, unsetEnv)"
   ]
  },
  {
   "cell_type": "markdown",
   "metadata": {},
   "source": [
    "# Custom tasks, `Configurable`s, and type checking\n",
    "\n",
    "In this tutorial, we'll show how to build a `Flow` that uses as custom task type.\n",
    "Additionally, we'll demonstrate `funflow`'s type safety for `Configurable` parameters."
   ]
  },
  {
   "cell_type": "markdown",
   "metadata": {},
   "source": [
    "## Define a custom task type and its _interpreter_.\n",
    "\n",
    "Here, we declare a custom task type and then write an _interpreter_ function to specify __how it's executed__."
   ]
  },
  {
   "cell_type": "code",
   "execution_count": 34,
   "metadata": {},
   "outputs": [],
   "source": [
    "{-# LANGUAGE TypeOperators #-}\n",
    "{-# LANGUAGE ExplicitNamespaces #-}\n",
    "\n",
    "import Control.Arrow (Arrow, arr)\n",
    "import Data.Profunctor.Trans (Reader, Writer, reading, writing, runReader, runWriter)\n",
    "import Control.Kernmantle.Rope (type (~>), HasKleisliIO, untwine)\n",
    "import qualified Data.HashSet as HS\n",
    "\n",
    "-- Define the representation of a custom task with some String and Int parameters.\n",
    "-- We'll use this as a sort of closure, yielding a \"function\" (task) with text input and output.\n",
    "-- This is just the declaration; the closure-like logic lies in the implementation of this task's interpreter.\n",
    "data EchoXTask i o where\n",
    "    EchoXTask :: String -> Configurable Int -> EchoXTask String String\n",
    "\n",
    "-- our custom task's interpreter; essentially, this is what the task does.\n",
    "--interpretEcho :: (Arrow a) => ExternalConfig -> EchoXTask i o -> a i o\n",
    "--interpretEcho extCfg (EchoXTask msg x@(ConfigFromEnv k)) = \n",
    "--    case render x extCfg of Left msg           -> error msg\n",
    "--                            Right (Literal n)  -> arr (++ repStr (n,msg))\n",
    "--                            Right _            -> error $ \"Unrendered env-based config: \" ++ show k\n",
    "--        where repStr = concat . uncurry replicate\n",
    "-- Here we choose to demo just environment-based configurability, but the same applies for files.\n",
    "--interpretEcho _ _ = error \"This implementation only supports environment-based configuration.\"\n",
    "\n",
    "\n",
    "interpretEcho :: (Arrow core, HasKleisliIO m core) => EchoXTask i o -> (Writer ConfigKeysBySource ~> Reader ExternalConfig ~> core) i o\n",
    "interpretEcho (EchoXTask msg x@(ConfigFromEnv k)) = \n",
    "  let reqdCfgs = ConfigKeysBySource{ fileConfigKeys = mempty, envConfigKeys = HS.singleton k }\n",
    "      repStr = concat . uncurry replicate\n",
    "  in writing reqdCfgs $ \n",
    "    reading $ \\extCfg -> \n",
    "      case render x extCfg of Left msg           -> error msg\n",
    "                              Right (Literal n)  -> arr (++ repStr (n,msg))\n",
    "                              Right _            -> error $ \"Unrendered env-based config: \" ++ show k\n",
    "interpretEcho _ = error \"This implementation supports only environment-based configuration.\"\n"
   ]
  },
  {
   "cell_type": "markdown",
   "metadata": {},
   "source": [
    "## Tell `funflow` about our task.\n",
    "\n",
    "With our custom task type declared and accompanied by an interpreter, which defines what it should do, we now must tell `funflow` about it so that a `Flow` that uses this task type can be executed.\n",
    "\n",
    "First we create a flow type that includes our task type."
   ]
  },
  {
   "cell_type": "code",
   "execution_count": 35,
   "metadata": {},
   "outputs": [],
   "source": [
    "import Funflow (ExtendedFlow)\n",
    "\n",
    "-- Create a flow type that knows about (and can run) our custom task type.\n",
    "type EchoFlow i o = ExtendedFlow '[ '(\"echodemo\", EchoXTask) ]  i o"
   ]
  },
  {
   "cell_type": "markdown",
   "metadata": {},
   "source": [
    "Now we provide a convenience function, or a \"smart constructor,\" to facilitate create values of this custom flow type."
   ]
  },
  {
   "cell_type": "code",
   "execution_count": 36,
   "metadata": {},
   "outputs": [],
   "source": [
    "import Control.Kernmantle.Rope (strand)\n",
    "\n",
    "buildEchoX :: String -> Configurable Int -> EchoFlow String String\n",
    "buildEchoX refrain nRepsParam = strand #echodemo (EchoXTask refrain nRepsParam)"
   ]
  },
  {
   "cell_type": "markdown",
   "metadata": {},
   "source": [
    "Finally, we \"weave\" the \"strand\" comprised of our custom task type, its label, and its interpreter, into the overall \"rope\" that constitutes the flow. For more on this, [refer to `kernmantle`](https://github.com/tweag/kernmantle)."
   ]
  },
  {
   "cell_type": "code",
   "execution_count": 37,
   "metadata": {},
   "outputs": [],
   "source": [
    "import Control.Kernmantle.Rope ((&), weave')\n",
    "\n",
    "--weaveMyFlow myFlow myConfig = myFlow & weave' #echodemo (interpretEcho myConfig)\n",
    "weaveMyFlow myFlow = myFlow & weave' #echodemo interpretEcho"
   ]
  },
  {
   "cell_type": "code",
   "execution_count": 38,
   "metadata": {},
   "outputs": [
    {
     "data": {
      "text/html": [
       "<style>/* Styles used for the Hoogle display in the pager */\n",
       ".hoogle-doc {\n",
       "display: block;\n",
       "padding-bottom: 1.3em;\n",
       "padding-left: 0.4em;\n",
       "}\n",
       ".hoogle-code {\n",
       "display: block;\n",
       "font-family: monospace;\n",
       "white-space: pre;\n",
       "}\n",
       ".hoogle-text {\n",
       "display: block;\n",
       "}\n",
       ".hoogle-name {\n",
       "color: green;\n",
       "font-weight: bold;\n",
       "}\n",
       ".hoogle-head {\n",
       "font-weight: bold;\n",
       "}\n",
       ".hoogle-sub {\n",
       "display: block;\n",
       "margin-left: 0.4em;\n",
       "}\n",
       ".hoogle-package {\n",
       "font-weight: bold;\n",
       "font-style: italic;\n",
       "}\n",
       ".hoogle-module {\n",
       "font-weight: bold;\n",
       "}\n",
       ".hoogle-class {\n",
       "font-weight: bold;\n",
       "}\n",
       ".get-type {\n",
       "color: green;\n",
       "font-weight: bold;\n",
       "font-family: monospace;\n",
       "display: block;\n",
       "white-space: pre-wrap;\n",
       "}\n",
       ".show-type {\n",
       "color: green;\n",
       "font-weight: bold;\n",
       "font-family: monospace;\n",
       "margin-left: 1em;\n",
       "}\n",
       ".mono {\n",
       "font-family: monospace;\n",
       "display: block;\n",
       "}\n",
       ".err-msg {\n",
       "color: red;\n",
       "font-style: italic;\n",
       "font-family: monospace;\n",
       "white-space: pre;\n",
       "display: block;\n",
       "}\n",
       "#unshowable {\n",
       "color: red;\n",
       "font-weight: bold;\n",
       "}\n",
       ".err-msg.in.collapse {\n",
       "padding-top: 0.7em;\n",
       "}\n",
       ".highlight-code {\n",
       "white-space: pre;\n",
       "font-family: monospace;\n",
       "}\n",
       ".suggestion-warning { \n",
       "font-weight: bold;\n",
       "color: rgb(200, 130, 0);\n",
       "}\n",
       ".suggestion-error { \n",
       "font-weight: bold;\n",
       "color: red;\n",
       "}\n",
       ".suggestion-name {\n",
       "font-weight: bold;\n",
       "}\n",
       "</style><span class='get-type'>weaveMyFlow :: forall (core :: * -> * -> *) (m :: * -> *) (mantle :: [(Symbol, * -> * -> *)]) a b.\n",
       "(Arrow core, SieveTrans m core, MonadIO m) =>\n",
       "LooseRope ('(\"echodemo\", EchoXTask) : mantle) (Cayley (Writer ConfigKeysBySource) (Reader ExternalConfig ~> core)) a b\n",
       "-> LooseRope mantle (Cayley (Writer ConfigKeysBySource) (Reader ExternalConfig ~> core)) a b</span>"
      ],
      "text/plain": [
       "weaveMyFlow :: forall (core :: * -> * -> *) (m :: * -> *) (mantle :: [(Symbol, * -> * -> *)]) a b.\n",
       "(Arrow core, SieveTrans m core, MonadIO m) =>\n",
       "LooseRope ('(\"echodemo\", EchoXTask) : mantle) (Cayley (Writer ConfigKeysBySource) (Reader ExternalConfig ~> core)) a b\n",
       "-> LooseRope mantle (Cayley (Writer ConfigKeysBySource) (Reader ExternalConfig ~> core)) a b"
      ]
     },
     "metadata": {},
     "output_type": "display_data"
    }
   ],
   "source": [
    ":t weaveMyFlow"
   ]
  },
  {
   "cell_type": "markdown",
   "metadata": {},
   "source": [
    "## Running the flow with our custom task\n",
    "\n",
    "Here we provide the functions to execute our custom flow."
   ]
  },
  {
   "cell_type": "code",
   "execution_count": 39,
   "metadata": {},
   "outputs": [],
   "source": [
    ":opt no-lint\n",
    "import Funflow.Run (runFlow)"
   ]
  },
  {
   "cell_type": "code",
   "execution_count": 44,
   "metadata": {},
   "outputs": [
    {
     "ename": "",
     "evalue": "",
     "header": "MessageHeader {mhIdentifiers = [\"03a6ac06-2788-4b11-b896-1044a7198f55\"], mhParentHeader = Just (MessageHeader {mhIdentifiers = [\"03a6ac06-2788-4b11-b896-1044a7198f55\"], mhParentHeader = Nothing, mhMetadata = Metadata (fromList [(\"recordTiming\",Bool False),(\"deletedCells\",Array []),(\"cellId\",String \"01fa514e-a6ae-4c09-a762-e49067ed3764\")]), mhMessageId = UUID {uuidToString = \"5da6797b-b6cb-4be4-abd7-a821ab99cbab\"}, mhSessionId = UUID {uuidToString = \"03a6ac06-2788-4b11-b896-1044a7198f55\"}, mhUsername = \"\", mhMsgType = ExecuteRequestMessage, mhBuffers = []}), mhMetadata = Metadata (fromList []), mhMessageId = UUID {uuidToString = \"4af8927d-6ab6-47cf-9dd7-0be959951ffb\"}, mhSessionId = UUID {uuidToString = \"03a6ac06-2788-4b11-b896-1044a7198f55\"}, mhUsername = \"\", mhMsgType = ExecuteErrorMessage, mhBuffers = []}",
     "output_type": "error",
     "traceback": [
      "<interactive>:2:35: error:\n    • Could not deduce: core ~ Data.Profunctor.Cayley.Cayley (Writer ConfigKeysBySource) (Reader ExternalConfig ~> core0)\n      from the context: (Control.Kernmantle.Rope.Entwines (Control.Kernmantle.Rope.LooseRope mantle core) Funflow.Flow.RequiredStrands,\n                         Control.Kernmantle.Rope.SatisfiesAll core (Funflow.Flow.RequiredCore IO))\n        bound by a type expected by the context:\n                   Control.Kernmantle.Rope.LooseRopeWith Funflow.Flow.RequiredStrands (Funflow.Flow.RequiredCore IO) i o\n        at <interactive>:2:34-53\n      ‘core’ is a rigid type variable bound by\n        a type expected by the context:\n          Control.Kernmantle.Rope.LooseRopeWith Funflow.Flow.RequiredStrands (Funflow.Flow.RequiredCore IO) i o\n        at <interactive>:2:34-53\n      Expected type: Control.Kernmantle.Rope.LooseRope mantle core i o\n        Actual type: Control.Kernmantle.Rope.LooseRope mantle (Data.Profunctor.Cayley.Cayley (Writer ConfigKeysBySource) (Reader ExternalConfig ~> core0)) i o\n    • In the first argument of ‘runFlow’, namely ‘(weaveMyFlow myFlow)’\n      In the expression: runFlow (weaveMyFlow myFlow) input\n      In an equation for ‘runMyFlow’: runMyFlow myFlow input = runFlow (weaveMyFlow myFlow) input"
     ]
    }
   ],
   "source": [
    "import Funflow.Config (readEnv, readEnvs, ExternalConfig (..), fileConfig, envConfig)\n",
    "\n",
    "\n",
    "-- Use a configuration, a flow value, and an input value to generate an output.\n",
    "--runMyFlow :: ExternalConfig -> EchoFlow i o -> i -> IO o\n",
    "--runMyFlow config myFlow input = runFlow (weaveMyFlow myFlow config) input\n",
    "--runMyFlow :: EchoFlow i o -> i -> IO o\n",
    "--runMyFlow myFlow input = runFlow (weaveMyFlow myFlow) input\n",
    "\n",
    "runMyFlow :: EchoFlow i o -> i -> IO o\n",
    "runMyFlow myFlow input = runFlow (weaveMyFlow myFlow) input\n",
    "--    let wovenPipe = weaveMyFlow myFlow & untwine\n",
    "--        (confKeys, pipeWithConfRead) = runWriter wovenPipe\n",
    "--    in do\n",
    "--        ec <- readEnvs $ HS.toList $ envConfigKeys confKeys\n",
    "--        let extConf = ExternalConfig{ fileConfig = mempty, envConfig = ec }\n",
    "--            wovenPipe' = runReader extConf pipeWithConfRead\n",
    "--        runFlow wovenPipe' input"
   ]
  },
  {
   "cell_type": "code",
   "execution_count": 45,
   "metadata": {},
   "outputs": [
    {
     "ename": "",
     "evalue": "",
     "header": "MessageHeader {mhIdentifiers = [\"03a6ac06-2788-4b11-b896-1044a7198f55\"], mhParentHeader = Just (MessageHeader {mhIdentifiers = [\"03a6ac06-2788-4b11-b896-1044a7198f55\"], mhParentHeader = Nothing, mhMetadata = Metadata (fromList [(\"recordTiming\",Bool False),(\"deletedCells\",Array []),(\"cellId\",String \"7e78f5a1-325e-44ae-a68a-aadd350f9972\")]), mhMessageId = UUID {uuidToString = \"7bc7ba36-c3ff-4d2c-97c9-219c2a69ccaa\"}, mhSessionId = UUID {uuidToString = \"03a6ac06-2788-4b11-b896-1044a7198f55\"}, mhUsername = \"\", mhMsgType = ExecuteRequestMessage, mhBuffers = []}), mhMetadata = Metadata (fromList []), mhMessageId = UUID {uuidToString = \"cb76b390-1fad-484c-a0a3-c1d1689fc439\"}, mhSessionId = UUID {uuidToString = \"03a6ac06-2788-4b11-b896-1044a7198f55\"}, mhUsername = \"\", mhMsgType = ExecuteErrorMessage, mhBuffers = []}",
     "output_type": "error",
     "traceback": [
      "<interactive>:4:17: error:\n    • Could not deduce: core ~ Data.Profunctor.Cayley.Cayley (Writer ConfigKeysBySource) (Reader ExternalConfig ~> core0)\n      from the context: (Control.Kernmantle.Rope.Entwines (Control.Kernmantle.Rope.LooseRope mantle core) Funflow.Flow.RequiredStrands,\n                         Control.Kernmantle.Rope.SatisfiesAll core (Funflow.Flow.RequiredCore IO))\n        bound by a type expected by the context:\n                   Control.Kernmantle.Rope.LooseRopeWith Funflow.Flow.RequiredStrands (Funflow.Flow.RequiredCore IO) String String\n        at <interactive>:4:16-74\n      ‘core’ is a rigid type variable bound by\n        a type expected by the context:\n          Control.Kernmantle.Rope.LooseRopeWith Funflow.Flow.RequiredStrands (Funflow.Flow.RequiredCore IO) String String\n        at <interactive>:4:16-74\n      Expected type: Control.Kernmantle.Rope.LooseRope mantle core String String\n        Actual type: Control.Kernmantle.Rope.LooseRope mantle (Data.Profunctor.Cayley.Cayley (Writer ConfigKeysBySource) (Reader ExternalConfig ~> core0)) String String\n    • In the first argument of ‘runFlow’, namely ‘(weaveMyFlow (buildEchoX \"Refrain\" (ConfigFromEnv envVar)))’\n      In the expression: runFlow (weaveMyFlow (buildEchoX \"Refrain\" (ConfigFromEnv envVar))) \"I'm the PREFIX: \" :: IO String\n      In the expression: let envVar = Text.pack envVarRaw in runFlow (weaveMyFlow (buildEchoX \"Refrain\" (ConfigFromEnv envVar))) \"I'm the PREFIX: \" :: IO String"
     ]
    }
   ],
   "source": [
    "import qualified Data.Text as Text\n",
    "\n",
    "-- Accept the name of the env var that provides the repetition count for the echo task.\n",
    "--execDemo :: String -> IO String\n",
    "--execDemo envVarRaw = \n",
    "--    let envVar = Text.pack envVarRaw\n",
    "--    in readEnv envVar >>= (\\envMap -> \n",
    "--        let envCfg = ExternalConfig{ fileConfig = mempty, envConfig = envMap }\n",
    "--        in runMyFlow envCfg (buildEchoX \"Refrain\" (ConfigFromEnv envVar)) \"I'm the PREFIX: \")\n",
    "execDemo :: String -> IO String\n",
    "execDemo envVarRaw = \n",
    "    let envVar = Text.pack envVarRaw\n",
    "    in runFlow (weaveMyFlow (buildEchoX \"Refrain\" (ConfigFromEnv envVar))) \"I'm the PREFIX: \" :: IO String"
   ]
  },
  {
   "cell_type": "markdown",
   "metadata": {},
   "source": [
    "## Configurable parameters must be defined and correctly typed."
   ]
  },
  {
   "cell_type": "code",
   "execution_count": 46,
   "metadata": {},
   "outputs": [
    {
     "ename": "",
     "evalue": "",
     "header": "MessageHeader {mhIdentifiers = [\"03a6ac06-2788-4b11-b896-1044a7198f55\"], mhParentHeader = Just (MessageHeader {mhIdentifiers = [\"03a6ac06-2788-4b11-b896-1044a7198f55\"], mhParentHeader = Nothing, mhMetadata = Metadata (fromList [(\"recordTiming\",Bool False),(\"deletedCells\",Array []),(\"cellId\",String \"c6b9a8cf-601b-4652-bcb5-2fdfd48be817\")]), mhMessageId = UUID {uuidToString = \"ce2dd654-9615-4061-81dd-56fd26b256f1\"}, mhSessionId = UUID {uuidToString = \"03a6ac06-2788-4b11-b896-1044a7198f55\"}, mhUsername = \"\", mhMsgType = ExecuteRequestMessage, mhBuffers = []}), mhMetadata = Metadata (fromList []), mhMessageId = UUID {uuidToString = \"39626d7a-674a-45dd-8597-98ea4b9b2300\"}, mhSessionId = UUID {uuidToString = \"03a6ac06-2788-4b11-b896-1044a7198f55\"}, mhUsername = \"\", mhMsgType = ExecuteErrorMessage, mhBuffers = []}",
     "output_type": "error",
     "traceback": [
      "<interactive>:5:20: error: Variable not in scope: execDemo :: String -> IO String"
     ]
    }
   ],
   "source": [
    "import Control.Exception (throw, try, SomeException)\n",
    "\n",
    "-- env var we'll use and reuse.\n",
    "myVarName :: String\n",
    "myVarName = \"DEMO_TEMP\"\n",
    "\n",
    "runSafe :: String -> IO ()\n",
    "runSafe varname = do\n",
    "    result <- try (execDemo varname) :: IO (Either SomeException String)\n",
    "    case result of Left ex -> putStrLn (\"ERROR! \" ++ show ex)\n",
    "                   Right msg -> putStrLn (\"Non-error result: \" ++ msg)"
   ]
  },
  {
   "cell_type": "markdown",
   "metadata": {},
   "source": [
    "First, as expected, when the environment variable that we're using to parameterize our run attempt isn't set, the flow fails."
   ]
  },
  {
   "cell_type": "code",
   "execution_count": 47,
   "metadata": {},
   "outputs": [
    {
     "ename": "",
     "evalue": "",
     "header": "MessageHeader {mhIdentifiers = [\"03a6ac06-2788-4b11-b896-1044a7198f55\"], mhParentHeader = Just (MessageHeader {mhIdentifiers = [\"03a6ac06-2788-4b11-b896-1044a7198f55\"], mhParentHeader = Nothing, mhMetadata = Metadata (fromList [(\"recordTiming\",Bool False),(\"deletedCells\",Array []),(\"cellId\",String \"52b9a246-35aa-42a2-8726-ba4af662420a\")]), mhMessageId = UUID {uuidToString = \"97ec96c9-9b39-410f-a2cc-512e40c37186\"}, mhSessionId = UUID {uuidToString = \"03a6ac06-2788-4b11-b896-1044a7198f55\"}, mhUsername = \"\", mhMsgType = ExecuteRequestMessage, mhBuffers = []}), mhMetadata = Metadata (fromList []), mhMessageId = UUID {uuidToString = \"68711103-3dea-4b04-a6b5-1feb120d3f41\"}, mhSessionId = UUID {uuidToString = \"03a6ac06-2788-4b11-b896-1044a7198f55\"}, mhUsername = \"\", mhMsgType = ExecuteErrorMessage, mhBuffers = []}",
     "output_type": "error",
     "traceback": [
      "<interactive>:1:10: error: Variable not in scope: myVarName :: String"
     ]
    }
   ],
   "source": [
    "unsetEnv myVarName\n",
    "runSafe myVarName"
   ]
  },
  {
   "cell_type": "markdown",
   "metadata": {},
   "source": [
    "Not only must a configurable parameter be set, but it __also must type check__.\n",
    "In the case of an environment variable, for example, this is trivial if the `Configurable` type is `String`. \n",
    "If we declare a configurable as some other type, though, then pre-execution \"interpretation\" of a task provides the desirable _fail fast_ behavior. "
   ]
  },
  {
   "cell_type": "code",
   "execution_count": 48,
   "metadata": {},
   "outputs": [
    {
     "ename": "",
     "evalue": "",
     "header": "MessageHeader {mhIdentifiers = [\"03a6ac06-2788-4b11-b896-1044a7198f55\"], mhParentHeader = Just (MessageHeader {mhIdentifiers = [\"03a6ac06-2788-4b11-b896-1044a7198f55\"], mhParentHeader = Nothing, mhMetadata = Metadata (fromList [(\"recordTiming\",Bool False),(\"deletedCells\",Array []),(\"cellId\",String \"b9546bce-5c7e-4232-a161-9c90967cd931\")]), mhMessageId = UUID {uuidToString = \"caec4848-5f15-41e2-a12f-d2559cc12ae1\"}, mhSessionId = UUID {uuidToString = \"03a6ac06-2788-4b11-b896-1044a7198f55\"}, mhUsername = \"\", mhMsgType = ExecuteRequestMessage, mhBuffers = []}), mhMetadata = Metadata (fromList []), mhMessageId = UUID {uuidToString = \"be5c69c6-04fe-4068-9b47-2ed7be573e76\"}, mhSessionId = UUID {uuidToString = \"03a6ac06-2788-4b11-b896-1044a7198f55\"}, mhUsername = \"\", mhMsgType = ExecuteErrorMessage, mhBuffers = []}",
     "output_type": "error",
     "traceback": [
      "<interactive>:1:8: error: Variable not in scope: myVarName :: String"
     ]
    }
   ],
   "source": [
    "setEnv myVarName \"wrong type!\"\n",
    "runSafe myVarName"
   ]
  },
  {
   "cell_type": "markdown",
   "metadata": {},
   "source": [
    "While here our \"pipeline\" is trivial, in general this upfront type safety saves us the wasted time and resources of running something that we can deduced is doomed to crash.\n",
    "\n",
    "Finally, when we set the config key's value to something parseable as intended, the flow succeeds."
   ]
  },
  {
   "cell_type": "code",
   "execution_count": 49,
   "metadata": {},
   "outputs": [
    {
     "ename": "",
     "evalue": "",
     "header": "MessageHeader {mhIdentifiers = [\"03a6ac06-2788-4b11-b896-1044a7198f55\"], mhParentHeader = Just (MessageHeader {mhIdentifiers = [\"03a6ac06-2788-4b11-b896-1044a7198f55\"], mhParentHeader = Nothing, mhMetadata = Metadata (fromList [(\"recordTiming\",Bool False),(\"deletedCells\",Array []),(\"cellId\",String \"add0a859-a219-4329-b297-0be6d77634ae\")]), mhMessageId = UUID {uuidToString = \"b3d99bf2-c534-4872-bdf7-524b4c80ad97\"}, mhSessionId = UUID {uuidToString = \"03a6ac06-2788-4b11-b896-1044a7198f55\"}, mhUsername = \"\", mhMsgType = ExecuteRequestMessage, mhBuffers = []}), mhMetadata = Metadata (fromList []), mhMessageId = UUID {uuidToString = \"96dcdc9b-e861-4443-973c-81202c73db73\"}, mhSessionId = UUID {uuidToString = \"03a6ac06-2788-4b11-b896-1044a7198f55\"}, mhUsername = \"\", mhMsgType = ExecuteErrorMessage, mhBuffers = []}",
     "output_type": "error",
     "traceback": [
      "<interactive>:1:8: error: Variable not in scope: myVarName :: String"
     ]
    }
   ],
   "source": [
    "setEnv myVarName \"3\"\n",
    "runSafe myVarName"
   ]
  },
  {
   "cell_type": "markdown",
   "metadata": {},
   "source": [
    "Note that the value parsing uses `Data.Yaml`; a custom type may be used for a `Configurable` as long as the type has a `FromJSON` instance available."
   ]
  }
 ],
 "metadata": {
  "kernelspec": {
   "display_name": "Haskell - haskell",
   "language": "haskell",
   "name": "ihaskell_haskell"
  },
  "language_info": {
   "codemirror_mode": "Haskell",
   "file_extension": ".hs",
   "mimetype": "text/x-haskell",
   "name": "haskell",
   "pygments_lexer": "Haskell",
   "version": "8.8.4"
  }
 },
 "nbformat": 4,
 "nbformat_minor": 4
}
