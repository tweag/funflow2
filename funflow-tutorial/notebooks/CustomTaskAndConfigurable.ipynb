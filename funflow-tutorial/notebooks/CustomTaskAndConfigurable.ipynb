{
 "cells": [
  {
   "cell_type": "code",
   "execution_count": 1,
   "metadata": {},
   "outputs": [],
   "source": [
    ":opt no-lint\n",
    "-- Required language extensions\n",
    "{-# LANGUAGE DataKinds #-}             -- typelevel lists and tuples\n",
    "{-# LANGUAGE GADTs #-}                 -- task declaration\n",
    "{-# LANGUAGE OverloadedLabels #-}      -- named task disambiguation\n",
    "{-# LANGUAGE OverloadedStrings #-}     -- flexible string types\n",
    "{-# LANGUAGE RankNTypes #-}            -- polymorphism of Flow\n",
    "\n",
    "-- core types and functions used here\n",
    "import Funflow.Config (render, Configurable (..), ExternalConfig)\n",
    "\n",
    "-- other necessary imports\n",
    "import System.Environment (setEnv, unsetEnv)"
   ]
  },
  {
   "cell_type": "markdown",
   "metadata": {},
   "source": [
    "# Custom tasks, `Configurable`s, and type checking\n",
    "\n",
    "In this tutorial, we'll show how to build a `Flow` that uses as custom task type.\n",
    "Additionally, we'll demonstrate `funflow`'s type safety for `Configurable` parameters."
   ]
  },
  {
   "cell_type": "markdown",
   "metadata": {},
   "source": [
    "## Defining a custom task type and its _interpreter_\n",
    "\n",
    "Here, we declare a custom task type and then define __what it does__ with an _interpreter_ function."
   ]
  },
  {
   "cell_type": "code",
   "execution_count": 2,
   "metadata": {},
   "outputs": [],
   "source": [
    "import Control.Arrow (Arrow, arr)\n",
    "\n",
    "-- Define the representation of a custom task with some String and Int parameters.\n",
    "-- We'll use this as a sort of closure, yielding a \"function\" (task) with text input and output.\n",
    "-- This is just the declaration; the closure-like logic lies in the implementation of this task's interpreter.\n",
    "data EchoXTask i o where\n",
    "    EchoXTask :: String -> Configurable Int -> EchoXTask String String\n",
    "\n",
    "-- our custom task's interpreter; essentially, this is what the task does.\n",
    "interpretEcho :: (Arrow a) => ExternalConfig -> EchoXTask i o -> a i o\n",
    "interpretEcho extCfg (EchoXTask msg x@(ConfigFromEnv k)) = \n",
    "    case render x extCfg of Left msg           -> error msg\n",
    "                            Right (Literal n)  -> arr (++ repStr (n,msg))\n",
    "                            Right _            -> error $ \"Unrendered env-based config: \" ++ show k\n",
    "        where repStr = concat . uncurry replicate\n",
    "-- Here we choose to demo just environment-based configurability, but the same applies for files.\n",
    "interpretEcho _ _ = error \"This implementation only supports environment-based configuration.\""
   ]
  },
  {
   "cell_type": "markdown",
   "metadata": {},
   "source": [
    "## Tell `funflow` about our task.\n",
    "\n",
    "With our custom task type declared and accompanied by an interpreter, which defines what it should do, we now must tell `funflow` about it so that a `Flow` that uses this task type can be executed.\n",
    "\n",
    "First we create a flow type that includes our task type."
   ]
  },
  {
   "cell_type": "code",
   "execution_count": 3,
   "metadata": {},
   "outputs": [],
   "source": [
    "import Funflow (ExtendedFlow)\n",
    "\n",
    "-- Create a flow type that knows about (and can run) our custom task type.\n",
    "type EchoFlow i o = ExtendedFlow '[ '(\"echodemo\", EchoXTask) ]  i o"
   ]
  },
  {
   "cell_type": "markdown",
   "metadata": {},
   "source": [
    "Now we provide a convenience function, or a \"smart constructor,\" to facilitate create values of this custom flow type."
   ]
  },
  {
   "cell_type": "code",
   "execution_count": 4,
   "metadata": {},
   "outputs": [],
   "source": [
    "import Control.Kernmantle.Rope (strand)\n",
    "\n",
    "buildEchoX :: String -> Configurable Int -> EchoFlow String String\n",
    "buildEchoX refrain nRepsParam = strand #echodemo (EchoXTask refrain nRepsParam)"
   ]
  },
  {
   "cell_type": "markdown",
   "metadata": {},
   "source": [
    "Finally, we \"weave\" the \"strand\" comprised of our custom task type, its label, and its interpreter, into the overall \"rope\" that constitutes the flow. For more on this, [refer to `kernmantle`](https://github.com/tweag/kernmantle)."
   ]
  },
  {
   "cell_type": "code",
   "execution_count": 5,
   "metadata": {},
   "outputs": [],
   "source": [
    "import Control.Kernmantle.Rope ((&), weave')\n",
    "\n",
    "weaveMyFlow myFlow myConfig = myFlow & weave' #echodemo (interpretEcho myConfig)"
   ]
  },
  {
   "cell_type": "markdown",
   "metadata": {},
   "source": [
    "## Running the flow with our custom task\n",
    "\n",
    "Here we provide the functions to execute our custom flow."
   ]
  },
  {
   "cell_type": "code",
   "execution_count": 8,
   "metadata": {},
   "outputs": [],
   "source": [
    ":opt no-lint\n",
    "import Funflow.Run (runFlow)\n",
    "\n",
    "-- Use a configuration, a flow value, and an input value to generate an output.\n",
    "runMyFlow :: ExternalConfig -> EchoFlow i o -> i -> IO o\n",
    "runMyFlow config myFlow input = runFlow (weaveMyFlow myFlow config) input"
   ]
  },
  {
   "cell_type": "code",
   "execution_count": 9,
   "metadata": {},
   "outputs": [],
   "source": [
    "import Funflow.Config (readEnv, ExternalConfig (..), fileConfig, envConfig)\n",
    "import qualified Data.Text as Text\n",
    "\n",
    "-- Accept the name of the env var that provides the repetition count for the echo task.\n",
    "execDemo :: String -> IO String\n",
    "execDemo envVarRaw = \n",
    "    let envVar = Text.pack envVarRaw\n",
    "    in readEnv envVar >>= (\\envMap -> \n",
    "        let envCfg = ExternalConfig{ fileConfig = mempty, envConfig = envMap }\n",
    "        in runMyFlow envCfg (buildEchoX \"Refrain\" (ConfigFromEnv envVar)) \"I'm the PREFIX: \")"
   ]
  },
  {
   "cell_type": "markdown",
   "metadata": {},
   "source": [
    "## Configurable parameters must be defined and correctly typed."
   ]
  },
  {
   "cell_type": "code",
   "execution_count": 11,
   "metadata": {},
   "outputs": [],
   "source": [
    "-- env var we'll use and reuse.\n",
    "myVarName :: String\n",
    "myVarName = \"DEMO_TEMP\""
   ]
  },
  {
   "cell_type": "markdown",
   "metadata": {},
   "source": [
    "First, as expected, when the environment variable that we're using to parameterize our run attempt isn't set, the flow fails."
   ]
  },
  {
   "cell_type": "code",
   "execution_count": 12,
   "metadata": {},
   "outputs": [
    {
     "ename": "",
     "evalue": "",
     "header": "MessageHeader {mhIdentifiers = [\"a096e87f-95be-43c2-b5f4-5eb2e7474c55\"], mhParentHeader = Just (MessageHeader {mhIdentifiers = [\"a096e87f-95be-43c2-b5f4-5eb2e7474c55\"], mhParentHeader = Nothing, mhMetadata = Metadata (fromList [(\"recordTiming\",Bool False),(\"deletedCells\",Array []),(\"cellId\",String \"f1f34b86-a2e4-4e6f-9485-b03c80f89cac\")]), mhMessageId = UUID {uuidToString = \"f7b38fad-2970-4def-874c-a8afe81bc303\"}, mhSessionId = UUID {uuidToString = \"a096e87f-95be-43c2-b5f4-5eb2e7474c55\"}, mhUsername = \"\", mhMsgType = ExecuteRequestMessage, mhBuffers = []}), mhMetadata = Metadata (fromList []), mhMessageId = UUID {uuidToString = \"9cb90c8a-0319-4312-b6ac-83a39db88b68\"}, mhSessionId = UUID {uuidToString = \"a096e87f-95be-43c2-b5f4-5eb2e7474c55\"}, mhUsername = \"\", mhMsgType = ExecuteErrorMessage, mhBuffers = []}",
     "output_type": "error",
     "traceback": [
      "Failed to extract configurable DEMO_TEMP from environment variable with error: Failed to find key 'DEMO_TEMP' in provided config.\nCallStack (from HasCallStack):\n  error, called at <interactive>:5:51 in interactive:Ghci20"
     ]
    }
   ],
   "source": [
    "unsetEnv myVarName\n",
    "execDemo myVarName"
   ]
  },
  {
   "cell_type": "markdown",
   "metadata": {},
   "source": [
    "Not only must a configurable parameter be set, but it __also must type check__.\n",
    "In the case of an environment variable, for example, this is trivial if the `Configurable` type is `String`. \n",
    "If we declare a configurable as some other type, though, then pre-execution \"interpretation\" of a task provides the desirable _fail fast_ behavior. "
   ]
  },
  {
   "cell_type": "code",
   "execution_count": 13,
   "metadata": {},
   "outputs": [
    {
     "ename": "",
     "evalue": "",
     "header": "MessageHeader {mhIdentifiers = [\"a096e87f-95be-43c2-b5f4-5eb2e7474c55\"], mhParentHeader = Just (MessageHeader {mhIdentifiers = [\"a096e87f-95be-43c2-b5f4-5eb2e7474c55\"], mhParentHeader = Nothing, mhMetadata = Metadata (fromList [(\"recordTiming\",Bool False),(\"deletedCells\",Array []),(\"cellId\",String \"8d60aee7-fe7b-4daf-83b5-3a0c70384870\")]), mhMessageId = UUID {uuidToString = \"8d0c206e-51f5-4f25-9579-5d2bc66defdd\"}, mhSessionId = UUID {uuidToString = \"a096e87f-95be-43c2-b5f4-5eb2e7474c55\"}, mhUsername = \"\", mhMsgType = ExecuteRequestMessage, mhBuffers = []}), mhMetadata = Metadata (fromList []), mhMessageId = UUID {uuidToString = \"b631f660-c9ac-483e-a0aa-00374a7d4a29\"}, mhSessionId = UUID {uuidToString = \"a096e87f-95be-43c2-b5f4-5eb2e7474c55\"}, mhUsername = \"\", mhMsgType = ExecuteErrorMessage, mhBuffers = []}",
     "output_type": "error",
     "traceback": [
      "Failed to extract configurable DEMO_TEMP from environment variable with error: Aeson exception:\nError in $: parsing Int failed, expected Number, but encountered String\nCallStack (from HasCallStack):\n  error, called at <interactive>:5:51 in interactive:Ghci20"
     ]
    }
   ],
   "source": [
    "setEnv myVarName \"wrong type!\"\n",
    "execDemo myVarName"
   ]
  },
  {
   "cell_type": "markdown",
   "metadata": {},
   "source": [
    "While here our \"pipeline\" is trivial, in general this upfront type safety saves us the wasted time and resources of running something that we can deduced is doomed to crash.\n",
    "\n",
    "Finally, when we set the config key's value to something parseable as intended, the flow succeeds."
   ]
  },
  {
   "cell_type": "code",
   "execution_count": 14,
   "metadata": {},
   "outputs": [
    {
     "data": {
      "text/plain": [
       "\"I'm the PREFIX: RefrainRefrainRefrain\""
      ]
     },
     "metadata": {},
     "output_type": "display_data"
    }
   ],
   "source": [
    "setEnv myVarName \"3\"\n",
    "execDemo myVarName"
   ]
  },
  {
   "cell_type": "markdown",
   "metadata": {},
   "source": [
    "Note that the value parsing uses `Data.Yaml`; a custom type may be used for a `Configurable` as long as the type has a `FromJSON` instance available."
   ]
  }
 ],
 "metadata": {
  "kernelspec": {
   "display_name": "Haskell - haskell",
   "language": "haskell",
   "name": "ihaskell_haskell"
  },
  "language_info": {
   "codemirror_mode": "Haskell",
   "file_extension": ".hs",
   "mimetype": "text/x-haskell",
   "name": "haskell",
   "pygments_lexer": "Haskell",
   "version": "8.8.4"
  }
 },
 "nbformat": 4,
 "nbformat_minor": 4
}
