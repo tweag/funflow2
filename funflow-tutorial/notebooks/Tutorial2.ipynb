{
 "cells": [
  {
   "cell_type": "markdown",
   "metadata": {},
   "source": [
    "# Developer Guide [WIP]\n",
    "\n",
    "This tutorial aims to help prospective funflow developers get started with creating new tasks and functions \n",
    "for executing those tasks (i.e. interpreters). \n",
    "\n",
    "## Defining Tasks \n",
    "\n",
    "Tasks are defined in `Funflow.Tasks` and are simply just datatypes. For Tasks to be incorporated into a `Flow` DAG, they must specify an\n",
    "instance `IsFlow` for your new `Task` datatype. See `Funflow.Flow` for examples. \n",
    "\n",
    "TODO - Go into more detail and describe why `strand` is used in IsFlow\n",
    "\n",
    "## Compile, Load, and Execution Time \n",
    "\n",
    "TODO\n",
    "\n",
    "## Tasks, Effects and Interpretation\n",
    "\n",
    "TODO\n",
    "\n",
    "Funflow `Tasks` describe a specific type of computation which is then _interpreted_ at load time. Another way to put it is that \n",
    "`Tasks` can be seen as _computational effects_. This means that we can separately specify __how__ a Task description is transformed \n",
    "into executable code. Since `Tasks` are tagged by what they do, the `Flow` type can assemble all effects or constrain them to specific\n",
    "subsets at load time which is useful to achieve highly reproducible workflows. \n"
   ]
  }
 ],
 "metadata": {
  "kernelspec": {
   "display_name": "Haskell - haskell",
   "language": "haskell",
   "name": "ihaskell_haskell"
  },
  "language_info": {
   "codemirror_mode": "Haskell",
   "file_extension": ".hs",
   "mimetype": "text/x-haskell",
   "name": "haskell",
   "pygments_lexer": "Haskell",
   "version": "8.8.3"
  }
 },
 "nbformat": 4,
 "nbformat_minor": 4
}
