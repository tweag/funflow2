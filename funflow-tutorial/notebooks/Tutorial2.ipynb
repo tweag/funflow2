{
 "cells": [
  {
   "cell_type": "markdown",
   "metadata": {},
   "source": [
    "# Developer's Guide\n",
    "\n",
    "`funflow` provides a few task types (`SimpleTask`, `StoreTask`, and `DockerTask`) that will suffice for many pipelines, but the package facilitates creation of new task types as needed.\n",
    "\n",
    "This tutorial aims to help prospective `funflow` developers get started with task type creation."
   ]
  },
  {
   "cell_type": "markdown",
   "metadata": {},
   "source": [
    "## 1. Creating your own task\n",
    "\n",
    "In this tutorial, we will create a task called `CustomTask` by defining its type. We will define our own flow type, and write the functions needed to to run it."
   ]
  },
  {
   "cell_type": "markdown",
   "metadata": {},
   "source": [
    "### Defining the new task\n",
    "\n",
    "To define a task for our users, we first have to define a type that represents the task.\n",
    "\n",
    "> A task is represented by a generalized algebraic data type (GADT) of kind `* -> * -> *`."
   ]
  },
  {
   "cell_type": "code",
   "execution_count": 2,
   "metadata": {},
   "outputs": [],
   "source": [
    "-- Required language extensions\n",
    "{-# LANGUAGE GADTs, StandaloneDeriving #-}\n",
    "\n",
    "-- Define the representation of a custom task with some String and Int parameters\n",
    "data CustomTask i o where\n",
    "    CustomTask :: String -> Int -> CustomTask String String\n",
    "\n",
    "-- Necessary in order to display it\n",
    "deriving instance (Show i, Show o) => Show (CustomTask i o)"
   ]
  },
  {
   "cell_type": "markdown",
   "metadata": {},
   "source": [
    "Here, we create a type `CustomTask` with type constructor `CustomTask i o`, and a value constructor `CustomTask` of type `String -> Int -> CustomTask String String`.\n",
    "\n",
    "`String -> Int -> SomeCustomTask String String` means thatby providing a `String` and an `Int`, the function will give a task that takes a `String` as input and produces a `String` as output.\n",
    "\n",
    "A new task can be created by using the value constructor:"
   ]
  },
  {
   "cell_type": "code",
   "execution_count": 3,
   "metadata": {},
   "outputs": [
    {
     "data": {
      "text/plain": [
       "CustomTask \"someText\" 42"
      ]
     },
     "metadata": {},
     "output_type": "display_data"
    }
   ],
   "source": [
    "-- An example of instantiation\n",
    "CustomTask \"someText\" 42"
   ]
  },
  {
   "cell_type": "markdown",
   "metadata": {},
   "source": [
    "However, a value created this way is a _task_, not a _flow_. To use this value in a flow, we need some more work."
   ]
  },
  {
   "cell_type": "markdown",
   "metadata": {},
   "source": [
    "### From a task to a flow\n",
    "The `Flow` type in fact comes from restricting the more general `ExtendedFlow` type, specifying a fixed collection of task types to support.\n",
    "These tasks types are those defined here in funflow: `SimpleTask`, `StoreTask`, and `DockerTask`, which are declared as `RequiredStrands` in `Funflow.Flow`.\n",
    "\n",
    "In other words, a pipeline/workflow typed specifically as `Flow` may comprise tasks of these three types (and only these three), capturing the notion that it's these types with which a `Flow` is compatible. In order to manipulate a flow that can run our _custom_ task (i.e., a value of a new task type), we need to create our own new _flow_ type using `ExtendedFlow`, which is also defined in `Funflow.Flow`:"
   ]
  },
  {
   "cell_type": "code",
   "execution_count": 8,
   "metadata": {},
   "outputs": [],
   "source": [
    "{-# LANGUAGE DataKinds, RankNTypes #-}\n",
    "import Funflow.Flow (ExtendedFlow)\n",
    "\n",
    "type MyFlow input output = ExtendedFlow '[ '(\"custom\", CustomTask) ] input output"
   ]
  },
  {
   "cell_type": "markdown",
   "metadata": {},
   "source": [
    "> Prefixing the leading bracket or parenthesis, i.e. `'[ ... ]` and `'( ... )`, denotes a _type-level_ list or tuple, respectively. This syntax is supported by the `OverloadedLabels` extension and is used to distinguish between the ordinary `[]` and `()` are _data_ constructors, building values rather than types. \n",
    "> \n",
    "> So with `'[ '(\"custom\", CustomTask) ]`, we build a type-level list of type-level tuple, \"labeling\" our custom task type with a name.\n",
    "> \n",
    "> In `kernmantle`, such a tuple is called a _strand_, and the label facilitates disambiguation among different tasks with the same type.\n",
    "\n",
    "Now that we have our own type of flow that uses our custom task, we can define how a value of our custom task should be _stranded_, using [`kernmantle`](https://github.com/tweag/kernmantle):"
   ]
  },
  {
   "cell_type": "code",
   "execution_count": 9,
   "metadata": {},
   "outputs": [],
   "source": [
    "{-# LANGUAGE OverloadedLabels #-}\n",
    "import Control.Kernmantle.Rope (strand)\n",
    "\n",
    "someCustomFlow :: String -> Int -> MyFlow String String\n",
    "someCustomFlow x y = strand #custom (CustomTask x y)"
   ]
  },
  {
   "cell_type": "markdown",
   "metadata": {},
   "source": [
    "This function is called a _smart constructor_.\n",
    "It facilitates the creation of a flow for a user without having to think about strands.\n",
    "\n",
    "The `#custom` value is a Haskell label, and must match the string label associated to our task type in the flow type definition (here `\"custom\"`)."
   ]
  },
  {
   "cell_type": "code",
   "execution_count": 10,
   "metadata": {},
   "outputs": [],
   "source": [
    "myFlow :: MyFlow String String\n",
    "myFlow = someCustomFlow \"woop!\" 7"
   ]
  },
  {
   "cell_type": "markdown",
   "metadata": {},
   "source": [
    "### Interpret a task\n",
    "\n",
    "A strength of `funflow` is separation of the _representation_ of a computation (task) from _implementation_ of that task. More concretely, once it's created a task value has fixed input and output types, but __what it _does___ is not fixed. To specify that, we write an _interpreter function_.\n",
    "\n",
    "An interpreter function is executed __before _running_ the flow__.\n",
    "It takes a value of the task type that matches a particular _strand_ (identified by the strand's label) and produces an actual implementation of the task, in compliance with the task's fixed input and output types.\n",
    "\n",
    "In our case, we could define that our custom task `CustomTask n s` appends `n` times the string `s` to the input (which is a `String`):"
   ]
  },
  {
   "cell_type": "code",
   "execution_count": 11,
   "metadata": {},
   "outputs": [],
   "source": [
    "import Control.Arrow (Arrow, arr)\n",
    "\n",
    "-- Helper function that repeats a string n times\n",
    "duplicate :: String -> Int -> String\n",
    "duplicate s n = concat (replicate n s)\n",
    "\n",
    "-- Our interpreter\n",
    "interpretCustomTask :: (Arrow a) => CustomTask i o -> a i o\n",
    "interpretCustomTask customTask = case customTask of\n",
    "    CustomTask s n -> arr (\\input -> input ++ duplicate s n)"
   ]
  },
  {
   "cell_type": "markdown",
   "metadata": {},
   "source": [
    "What happens here is:\n",
    "\n",
    "1. We get the `customTask` of our type `CustomTask`.\n",
    "2. We consider the possible values.\n",
    "   As we've defined it, `CustomTask` has only one value constructor, but in general a GADT may have multiple value constructors.\n",
    "3. Since our function is pure, we can simply wrap it inside of an `Arrow` using `arr`.\n",
    "\n",
    "`\\input -> input ++ duplicate s n` is the actual function that will be executed when running the pipeline.\n",
    "\n",
    "> In funflow, pure computation should be wrapped in a `Arrow` while IO operations should wrapped in a `Kleisli IO`.\n",
    "> \n",
    "> Wrapping in an `Arrow` is done by using `arr`, while wrapping in a `Kleisli IO` is done by using `liftKleisliIO`.\n",
    "\n",
    "`funflow`'s interpreter functions are defined in the `Funflow.Run` module and can serve as examples as you write your own interpreter functions."
   ]
  },
  {
   "cell_type": "markdown",
   "metadata": {},
   "source": [
    "### Run your custom flow\n",
    "\n",
    "Now that we have defined a way to run our task, we might as well run our pipeline!\n",
    "\n",
    "To run a pipeline typed as `Flow`, funflow provides `runFlow`. Since we've built--in order to include our custom task type--a different type of pipeline (`MyFlow`), though, in order to leverage `runFlow` we first need an additional step. We will use the `weave'` function from `kernmantle`.\n",
    "\n",
    "> In `kernmantle`, intepreting a task with a function is called _weaving_ a strand.\n",
    ">\n",
    "> There are multiple function available to weave strands (`weave`, `weave'`, `weave''`, `weaveK`).\n",
    "> Almost always, the one you want is `weave'`."
   ]
  },
  {
   "cell_type": "code",
   "execution_count": 12,
   "metadata": {},
   "outputs": [],
   "source": [
    "import Control.Kernmantle.Rope ((&), weave')\n",
    "import Funflow.Flow (Flow)\n",
    "\n",
    "weaveMyFlow myFlow = myFlow & weave' #custom interpretCustomTask"
   ]
  },
  {
   "cell_type": "markdown",
   "metadata": {},
   "source": [
    "> `kernmantle`'s `&` operator allows to weave in chain multiple strands, e.g.:\n",
    "> ```haskell\n",
    "> weaveMyFlow myFlow = myFlow & weave' #custom1 interpretCustomTask1 & weave' #custom2 interpretCustomTask2\n",
    "> ```\n",
    "\n",
    "Now, we can run the resulting flow:"
   ]
  },
  {
   "cell_type": "code",
   "execution_count": 13,
   "metadata": {},
   "outputs": [
    {
     "data": {
      "text/html": [
       "<style>/* Styles used for the Hoogle display in the pager */\n",
       ".hoogle-doc {\n",
       "display: block;\n",
       "padding-bottom: 1.3em;\n",
       "padding-left: 0.4em;\n",
       "}\n",
       ".hoogle-code {\n",
       "display: block;\n",
       "font-family: monospace;\n",
       "white-space: pre;\n",
       "}\n",
       ".hoogle-text {\n",
       "display: block;\n",
       "}\n",
       ".hoogle-name {\n",
       "color: green;\n",
       "font-weight: bold;\n",
       "}\n",
       ".hoogle-head {\n",
       "font-weight: bold;\n",
       "}\n",
       ".hoogle-sub {\n",
       "display: block;\n",
       "margin-left: 0.4em;\n",
       "}\n",
       ".hoogle-package {\n",
       "font-weight: bold;\n",
       "font-style: italic;\n",
       "}\n",
       ".hoogle-module {\n",
       "font-weight: bold;\n",
       "}\n",
       ".hoogle-class {\n",
       "font-weight: bold;\n",
       "}\n",
       ".get-type {\n",
       "color: green;\n",
       "font-weight: bold;\n",
       "font-family: monospace;\n",
       "display: block;\n",
       "white-space: pre-wrap;\n",
       "}\n",
       ".show-type {\n",
       "color: green;\n",
       "font-weight: bold;\n",
       "font-family: monospace;\n",
       "margin-left: 1em;\n",
       "}\n",
       ".mono {\n",
       "font-family: monospace;\n",
       "display: block;\n",
       "}\n",
       ".err-msg {\n",
       "color: red;\n",
       "font-style: italic;\n",
       "font-family: monospace;\n",
       "white-space: pre;\n",
       "display: block;\n",
       "}\n",
       "#unshowable {\n",
       "color: red;\n",
       "font-weight: bold;\n",
       "}\n",
       ".err-msg.in.collapse {\n",
       "padding-top: 0.7em;\n",
       "}\n",
       ".highlight-code {\n",
       "white-space: pre;\n",
       "font-family: monospace;\n",
       "}\n",
       ".suggestion-warning { \n",
       "font-weight: bold;\n",
       "color: rgb(200, 130, 0);\n",
       "}\n",
       ".suggestion-error { \n",
       "font-weight: bold;\n",
       "color: red;\n",
       "}\n",
       ".suggestion-name {\n",
       "font-weight: bold;\n",
       "}\n",
       "</style><div class=\"suggestion-name\" style=\"clear:both;\">Eta reduce</div><div class=\"suggestion-row\" style=\"float: left;\"><div class=\"suggestion-warning\">Found:</div><div class=\"highlight-code\" id=\"haskell\">runMyFlow myFlow input = runFlow (weaveMyFlow myFlow) input</div></div><div class=\"suggestion-row\" style=\"float: left;\"><div class=\"suggestion-warning\">Why Not:</div><div class=\"highlight-code\" id=\"haskell\">runMyFlow myFlow = runFlow (weaveMyFlow myFlow)</div></div>"
      ],
      "text/plain": [
       "Line 7: Eta reduce\n",
       "Found:\n",
       "runMyFlow myFlow input = runFlow (weaveMyFlow myFlow) input\n",
       "Why not:\n",
       "runMyFlow myFlow = runFlow (weaveMyFlow myFlow)"
      ]
     },
     "metadata": {},
     "output_type": "display_data"
    }
   ],
   "source": [
    "{-# LANGUAGE FlexibleContexts, ScopedTypeVariables #-}\n",
    "import Control.Kernmantle.Rope (LooseRopeWith)\n",
    "import Funflow.Flow (RequiredStrands, RequiredCore)\n",
    "import Funflow.Run (runFlow)\n",
    "\n",
    "runMyFlow :: MyFlow i o -> i -> IO o\n",
    "runMyFlow myFlow input = runFlow (weaveMyFlow myFlow) input"
   ]
  },
  {
   "cell_type": "code",
   "execution_count": 14,
   "metadata": {},
   "outputs": [
    {
     "data": {
      "text/plain": [
       "\"Kangaroo goes woop!woop!woop!woop!woop!woop!woop!\""
      ]
     },
     "metadata": {},
     "output_type": "display_data"
    }
   ],
   "source": [
    "runMyFlow myFlow \"Kangaroo goes \" :: IO String"
   ]
  },
  {
   "cell_type": "markdown",
   "metadata": {},
   "source": [
    "> We have to specify the type of the result `IO String` because of some issues with type inference when using GADTs."
   ]
  },
  {
   "cell_type": "markdown",
   "metadata": {},
   "source": [
    "## Going further\n",
    "\n",
    "See more about `kernmantle` here: https://github.com/tweag/kernmantle"
   ]
  }
 ],
 "metadata": {
  "kernelspec": {
   "display_name": "Haskell - haskell",
   "language": "haskell",
   "name": "ihaskell_haskell"
  },
  "language_info": {
   "codemirror_mode": "Haskell",
   "file_extension": ".hs",
   "mimetype": "text/x-haskell",
   "name": "haskell",
   "pygments_lexer": "Haskell",
   "version": "8.8.4"
  }
 },
 "nbformat": 4,
 "nbformat_minor": 4
}
