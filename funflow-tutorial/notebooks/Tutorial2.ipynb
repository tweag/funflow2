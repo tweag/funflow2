{
 "cells": [
  {
   "cell_type": "markdown",
   "metadata": {},
   "source": [
    "# Developer's Guide\n",
    "\n",
    "`funflow` provides a collection of tasks to run most pipelines.\n",
    "However, its strength is to allow extending this collection.\n",
    "\n",
    "This tutorial aims to help prospective `funflow` developers get started with creating new tasks to be used by other `funflow` users."
   ]
  },
  {
   "cell_type": "markdown",
   "metadata": {},
   "source": [
    "## 1. Creating your own task\n",
    "\n",
    "In this tutorial, we will create a task called `CustomTask` by defining its type.\n",
    "\n",
    "We will define our own flow type, and write the necessary functions to be able to run it."
   ]
  },
  {
   "cell_type": "markdown",
   "metadata": {},
   "source": [
    "### Defining the new task\n",
    "\n",
    "To define a task for our users, we first have to define a type that represents the task.\n",
    "\n",
    "> A task is represented by a GADT datatype of kind `* -> * -> *`."
   ]
  },
  {
   "cell_type": "code",
   "execution_count": 1,
   "metadata": {},
   "outputs": [],
   "source": [
    "-- Required language extensions\n",
    "{-# LANGUAGE GADTs, StandaloneDeriving #-}\n",
    "\n",
    "-- Define the representation of a custom task with some String and Int parameters\n",
    "data CustomTask i o where\n",
    "    CustomTask :: String -> Int -> CustomTask String String\n",
    "\n",
    "-- Necessary in order to display it\n",
    "deriving instance (Show i, Show o) => Show (CustomTask i o)"
   ]
  },
  {
   "cell_type": "markdown",
   "metadata": {},
   "source": [
    "Here, we create a type `SomeCustomTask` of type constructor `SomeCustomTask i o` and a value constructor `SomeCustomTask` of type `String -> Int -> SomeCustomTask String String`.\n",
    "\n",
    "`String -> Int -> SomeCustomTask String String` means thatby providing a `String` and an `Int`, the function will give a task that take a `String` as input and produce a `String` as output.\n",
    "\n",
    "A new task can be created by using the value constructor:"
   ]
  },
  {
   "cell_type": "code",
   "execution_count": 2,
   "metadata": {},
   "outputs": [
    {
     "data": {
      "text/plain": [
       "CustomTask \"someText\" 42"
      ]
     },
     "metadata": {},
     "output_type": "display_data"
    }
   ],
   "source": [
    "-- An example of instanciation\n",
    "CustomTask \"someText\" 42"
   ]
  },
  {
   "cell_type": "markdown",
   "metadata": {},
   "source": [
    "However, a value created as such cannot be used by itself to define flows: it lacks all the \"properties\" of flows.\n",
    "\n",
    "For a task to be usable in a flow, we need some more work."
   ]
  },
  {
   "cell_type": "markdown",
   "metadata": {},
   "source": [
    "### From a task to a flow\n",
    "\n",
    "The `Flow` type is restricted to the set of tasks defined by `RequiredStrands` in `Funflow.Flow`.\n",
    "\n",
    "In order to manipulate a flow that can run our custom task, we need to create our own new type using `ExtendedFlow` from `Funflow.Flow`:"
   ]
  },
  {
   "cell_type": "code",
   "execution_count": 3,
   "metadata": {},
   "outputs": [],
   "source": [
    "{-# LANGUAGE DataKinds, RankNTypes #-}\n",
    "import Funflow.Flow (ExtendedFlow)\n",
    "\n",
    "type MyFlow input output = ExtendedFlow '[ '(\"custom\", CustomTask) ] input output"
   ]
  },
  {
   "cell_type": "markdown",
   "metadata": {},
   "source": [
    "> The list and tuple writing preceeded by an apostrophe `'[ ... ]` and `'( ... )` are type-level lists and tuples.\n",
    ">\n",
    "> Basically, we define a type-level list of type-level tuples `(label, task type)` that associate a string label to a task type definition.\n",
    "> \n",
    "> In `kernmantle`, such a tuple is called a _strand_.\n",
    "\n",
    "Now that we have our own type of flow that uses our custom task, we can define how a value of our custom task should be _stranded_:"
   ]
  },
  {
   "cell_type": "code",
   "execution_count": 4,
   "metadata": {},
   "outputs": [],
   "source": [
    "{-# LANGUAGE OverloadedLabels #-}\n",
    "import Control.Kernmantle.Rope (strand)\n",
    "\n",
    "someCustomFlow :: String -> Int -> MyFlow String String\n",
    "someCustomFlow x y = strand #custom (CustomTask x y)"
   ]
  },
  {
   "cell_type": "markdown",
   "metadata": {},
   "source": [
    "This function is called a _smart constructor_.\n",
    "It facilitates the creation of a flow for a user without having to think about strands.\n",
    "\n",
    "The `#custom` value is a Haskell label, and must match the string label associated to our task type in the flow type definition (here `\"custom\"`)."
   ]
  },
  {
   "cell_type": "code",
   "execution_count": 5,
   "metadata": {},
   "outputs": [],
   "source": [
    "myFlow :: MyFlow String String\n",
    "myFlow = someCustomFlow \"woop!\" 7"
   ]
  },
  {
   "cell_type": "markdown",
   "metadata": {},
   "source": [
    "### Interpret a task\n",
    "\n",
    "The strenght of `funflow` comes from its ability from distinguishing the representation of computations (tasks) from the actual implementation that they provoke.\n",
    "\n",
    "We have defined a task, which is a representation of a computation.\n",
    "We now need to implement said computation.\n",
    "\n",
    "In order to do that, we write what is called an _interpreter function_.\n",
    "\n",
    "An interpreter function is executed before running the flow.\n",
    "It takes a value of the task type that matches a given _strand_ (identified by its label) and consumes it, in order to produce the representation of an actual computation.\n",
    "\n",
    "In our case, we could define that our custom task `CustomTask n x` appends `n` times the string `x` to the input (which is a `String`)."
   ]
  },
  {
   "cell_type": "code",
   "execution_count": 6,
   "metadata": {},
   "outputs": [],
   "source": [
    "import Control.Arrow (Arrow, arr)\n",
    "\n",
    "-- Helper function that repeats a string n times\n",
    "duplicate :: String -> Int -> String\n",
    "duplicate s n = concat (replicate n s)\n",
    "\n",
    "-- Our interpreter\n",
    "interpretCustomTask :: (Arrow a) => CustomTask i o -> a i o\n",
    "interpretCustomTask customTask = case customTask of\n",
    "    CustomTask s n -> arr (\\input -> input ++ duplicate s n)"
   ]
  },
  {
   "cell_type": "markdown",
   "metadata": {},
   "source": [
    "What happens here is:\n",
    "\n",
    "1. We get the `customTask` of our type `CustomTask`.\n",
    "2. We differentiate the possible values.\n",
    "   Here there is only one value constructor, but GADTs can hold multiple value constructors.\n",
    "3. Since our function is pure, we can simply wrap it inside of an `Arrow` using `arr`.\n",
    "\n",
    "`\\input -> input ++ duplicate s n` is the actual function that will be executed when running the pipeline.\n",
    "\n",
    "> In funflow, pure computation should be wrapped in a `Arrow` while IO operations should wrapped in a `Kleisli IO`.\n",
    "> \n",
    "> Wrapping in an `Arrow` is done by using `arr`, while wrapping in a `Kleisli IO` is done by using `liftKleisliIO`.\n",
    "\n",
    "`funflow`'s interpreter functions are defined in the `Funflow.Run` module and can serve as examples."
   ]
  },
  {
   "cell_type": "markdown",
   "metadata": {},
   "source": [
    "### Run your custom flow\n",
    "\n",
    "Now that we have defined a way to run our task, we might as well run our pipeline!\n",
    "\n",
    "When using only `funflow`'s task, there is a convenient function `runFlow` defined in `Funflow.Run`.\n",
    "This function consumes a value of type `Flow`, which can be constituted of `funflow`'s tasks only.\n",
    "\n",
    "The most simple way is to convert our custom flow type to the `funflow`'s flow type in order to use this function.\n",
    "\n",
    "> In `kernmantle`, intepreting a task with a function is called _weaving_ a strand.\n",
    ">\n",
    "> There are multiple function available to weave strands (`weave`, `weave'`, `weave''`, `weaveK`).\n",
    "> Almost always, the one you should be using is `weave'`."
   ]
  },
  {
   "cell_type": "code",
   "execution_count": 7,
   "metadata": {},
   "outputs": [],
   "source": [
    "import Control.Kernmantle.Rope ((&), weave')\n",
    "import Funflow.Flow (Flow)\n",
    "\n",
    "weaveMyFlow myFlow = myFlow & weave' #custom interpretCustomTask"
   ]
  },
  {
   "cell_type": "markdown",
   "metadata": {},
   "source": [
    "> `kernmantle`'s `&` operator allows to weave in chain multiple strands:\n",
    "> ```haskell\n",
    "> weaveMyFlow myFlow = myFlow & weave' #custom1 interpretCustomTask1 & weave' #custom2 interpretCustomTask2\n",
    "> ```\n",
    "\n",
    "Now, we can run the resulting flow:"
   ]
  },
  {
   "cell_type": "code",
   "execution_count": 8,
   "metadata": {},
   "outputs": [
    {
     "data": {
      "text/html": [
       "<style>/* Styles used for the Hoogle display in the pager */\n",
       ".hoogle-doc {\n",
       "display: block;\n",
       "padding-bottom: 1.3em;\n",
       "padding-left: 0.4em;\n",
       "}\n",
       ".hoogle-code {\n",
       "display: block;\n",
       "font-family: monospace;\n",
       "white-space: pre;\n",
       "}\n",
       ".hoogle-text {\n",
       "display: block;\n",
       "}\n",
       ".hoogle-name {\n",
       "color: green;\n",
       "font-weight: bold;\n",
       "}\n",
       ".hoogle-head {\n",
       "font-weight: bold;\n",
       "}\n",
       ".hoogle-sub {\n",
       "display: block;\n",
       "margin-left: 0.4em;\n",
       "}\n",
       ".hoogle-package {\n",
       "font-weight: bold;\n",
       "font-style: italic;\n",
       "}\n",
       ".hoogle-module {\n",
       "font-weight: bold;\n",
       "}\n",
       ".hoogle-class {\n",
       "font-weight: bold;\n",
       "}\n",
       ".get-type {\n",
       "color: green;\n",
       "font-weight: bold;\n",
       "font-family: monospace;\n",
       "display: block;\n",
       "white-space: pre-wrap;\n",
       "}\n",
       ".show-type {\n",
       "color: green;\n",
       "font-weight: bold;\n",
       "font-family: monospace;\n",
       "margin-left: 1em;\n",
       "}\n",
       ".mono {\n",
       "font-family: monospace;\n",
       "display: block;\n",
       "}\n",
       ".err-msg {\n",
       "color: red;\n",
       "font-style: italic;\n",
       "font-family: monospace;\n",
       "white-space: pre;\n",
       "display: block;\n",
       "}\n",
       "#unshowable {\n",
       "color: red;\n",
       "font-weight: bold;\n",
       "}\n",
       ".err-msg.in.collapse {\n",
       "padding-top: 0.7em;\n",
       "}\n",
       ".highlight-code {\n",
       "white-space: pre;\n",
       "font-family: monospace;\n",
       "}\n",
       ".suggestion-warning { \n",
       "font-weight: bold;\n",
       "color: rgb(200, 130, 0);\n",
       "}\n",
       ".suggestion-error { \n",
       "font-weight: bold;\n",
       "color: red;\n",
       "}\n",
       ".suggestion-name {\n",
       "font-weight: bold;\n",
       "}\n",
       "</style><div class=\"suggestion-name\" style=\"clear:both;\">Eta reduce</div><div class=\"suggestion-row\" style=\"float: left;\"><div class=\"suggestion-warning\">Found:</div><div class=\"highlight-code\" id=\"haskell\">runMyFlow myFlow input = runFlow (weaveMyFlow myFlow) input</div></div><div class=\"suggestion-row\" style=\"float: left;\"><div class=\"suggestion-warning\">Why Not:</div><div class=\"highlight-code\" id=\"haskell\">runMyFlow myFlow = runFlow (weaveMyFlow myFlow)</div></div>"
      ],
      "text/plain": [
       "Line 7: Eta reduce\n",
       "Found:\n",
       "runMyFlow myFlow input = runFlow (weaveMyFlow myFlow) input\n",
       "Why not:\n",
       "runMyFlow myFlow = runFlow (weaveMyFlow myFlow)"
      ]
     },
     "metadata": {},
     "output_type": "display_data"
    }
   ],
   "source": [
    "{-# LANGUAGE FlexibleContexts, ScopedTypeVariables #-}\n",
    "import Control.Kernmantle.Rope (LooseRopeWith)\n",
    "import Funflow.Flow (RequiredStrands, RequiredCore)\n",
    "import Funflow.Run (runFlow)\n",
    "\n",
    "runMyFlow :: MyFlow i o -> i -> IO o\n",
    "runMyFlow myFlow input = runFlow (weaveMyFlow myFlow) input"
   ]
  },
  {
   "cell_type": "code",
   "execution_count": 9,
   "metadata": {},
   "outputs": [
    {
     "data": {
      "text/plain": [
       "\"Kangaroo goes woop!woop!woop!woop!woop!woop!woop!\""
      ]
     },
     "metadata": {},
     "output_type": "display_data"
    }
   ],
   "source": [
    "runMyFlow myFlow \"Kangaroo goes \" :: IO String"
   ]
  },
  {
   "cell_type": "markdown",
   "metadata": {},
   "source": [
    "> We have to specify the type of the result `IO String` because of some issues with type inference when using GADTs."
   ]
  },
  {
   "cell_type": "markdown",
   "metadata": {},
   "source": [
    "## Going further\n",
    "\n",
    "See more about `kernmantle` here: https://github.com/tweag/kernmantle"
   ]
  }
 ],
 "metadata": {
  "kernelspec": {
   "display_name": "Haskell - haskell",
   "language": "haskell",
   "name": "ihaskell_haskell"
  },
  "language_info": {
   "codemirror_mode": "Haskell",
   "file_extension": ".hs",
   "mimetype": "text/x-haskell",
   "name": "haskell",
   "pygments_lexer": "Haskell",
   "version": "8.8.4"
  }
 },
 "nbformat": 4,
 "nbformat_minor": 4
}
